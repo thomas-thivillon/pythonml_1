{
 "cells": [
  {
   "cell_type": "markdown",
   "id": "5ea5a657-9b7f-4a4a-8022-10a6100dcefa",
   "metadata": {},
   "source": [
    "# Lab: Review of Python programming language"
   ]
  },
  {
   "cell_type": "markdown",
   "id": "ba67fbd0-e961-44c8-b045-b289bbfd1f9c",
   "metadata": {},
   "source": [
    "## Basic commands"
   ]
  },
  {
   "cell_type": "markdown",
   "id": "e8fae0b3-fc87-4799-9b69-9adcc65f3fe3",
   "metadata": {},
   "source": [
    "```print()``` function outputs a text representation of all of its arguments to the console."
   ]
  },
  {
   "cell_type": "code",
   "execution_count": null,
   "id": "b49b8ae4-8cc0-4dc0-b56f-b510bf981c9c",
   "metadata": {},
   "outputs": [],
   "source": [
    "print('fit a model with', 1011, 'variables')\n"
   ]
  },
  {
   "cell_type": "markdown",
   "id": "285c4f32-e7b8-4373-9e1f-e4eaba70c227",
   "metadata": {},
   "source": [
    "The following command is providing more information about the ```print()``` function."
   ]
  },
  {
   "cell_type": "code",
   "execution_count": null,
   "id": "5d607ae9-aea2-4b60-89ff-41122fb86183",
   "metadata": {},
   "outputs": [],
   "source": [
    "print?"
   ]
  },
  {
   "cell_type": "markdown",
   "id": "45652979-4bb6-431f-a532-32bc71160f44",
   "metadata": {},
   "source": [
    "The three most important types of sequences are lists, tuples, and sets and dictionaries.\n"
   ]
  },
  {
   "cell_type": "markdown",
   "id": "19f2d94d-32e9-4066-88b7-7f9a215c3dbe",
   "metadata": {},
   "source": [
    "Textual data is handled using *strings*. For instance, `\"Allez\"` and `'l'OM'`are strings. We can concatenate them as follow:"
   ]
  },
  {
   "cell_type": "code",
   "execution_count": null,
   "id": "2f4810d1-e3ef-4e5b-8083-ba3d20bdf849",
   "metadata": {},
   "outputs": [],
   "source": [
    "\"Hello\" + \" \" + \"World\""
   ]
  },
  {
   "cell_type": "markdown",
   "id": "e6667101-dd2b-433e-84f2-e9cc9f1ccee1",
   "metadata": {},
   "source": [
    "_Lists_: Lists are one of the most flexible structures in Python. A list is a grouping of values.\n",
    "The creation of a list is done by writing the values by separating them with a comma\n",
    "and surrounding them by square brackets ([ and ]).\n",
    "\n",
    "Ask python to join together the numbers 3,4, and 5, and to save them as a list named `x`. Typing `x` gives us its content."
   ]
  },
  {
   "cell_type": "code",
   "execution_count": null,
   "id": "33473476-85bc-4c57-a6ee-482d6b37a202",
   "metadata": {},
   "outputs": [],
   "source": [
    "x = [3,4,5]\n",
    "x"
   ]
  },
  {
   "cell_type": "markdown",
   "id": "7eadd252",
   "metadata": {},
   "source": [
    "Copying a list: Be careful, copying a list in Python is achieved by using the list() function not by using the equal sign.\n",
    "\n"
   ]
  },
  {
   "cell_type": "code",
   "execution_count": null,
   "id": "bbac1187",
   "metadata": {},
   "outputs": [],
   "source": [
    "y=x\n",
    "print(x)\n",
    "print(y)\n",
    "\n",
    "y[0] = 0\n",
    "print(y)"
   ]
  },
  {
   "cell_type": "code",
   "execution_count": null,
   "id": "678eb832",
   "metadata": {
    "scrolled": true
   },
   "outputs": [],
   "source": [
    "print(x)"
   ]
  },
  {
   "cell_type": "code",
   "execution_count": null,
   "id": "17bafcfd",
   "metadata": {},
   "outputs": [],
   "source": [
    "x = [3, 4, 5]\n",
    "y = list(x)\n",
    "y[0] = 0\n",
    "print(\"x : \", x)"
   ]
  },
  {
   "cell_type": "code",
   "execution_count": null,
   "id": "0c79fc42",
   "metadata": {},
   "outputs": [],
   "source": [
    "print(\"y : \", y)"
   ]
  },
  {
   "cell_type": "code",
   "execution_count": null,
   "id": "077e52b7-2921-45b6-8004-17a382c3197b",
   "metadata": {},
   "outputs": [],
   "source": [
    "a = [\"Lea\", \"Tom\", \"Zoe\"]\n",
    "print(type(a))\n",
    "b = list(a)\n",
    "b[1] = \"Bob\"\n",
    "print(a)"
   ]
  },
  {
   "cell_type": "markdown",
   "id": "b26da13b",
   "metadata": {},
   "source": [
    "_Tuples_: Tuples are sequences of Python objects. To create a tuple, one lists the values, separated by commas. Unlike lists, tuplets are inalterable (i.e. cannot be modified after they have been created)."
   ]
  },
  {
   "cell_type": "code",
   "execution_count": null,
   "id": "a56f52bd",
   "metadata": {},
   "outputs": [],
   "source": [
    "x = (1, 4, 9, 16, 25)\n",
    "print(x)\n",
    "print(type(x))"
   ]
  },
  {
   "cell_type": "code",
   "execution_count": null,
   "id": "28411033",
   "metadata": {
    "scrolled": true
   },
   "outputs": [],
   "source": [
    "x[2]"
   ]
  },
  {
   "cell_type": "markdown",
   "id": "ad227122",
   "metadata": {},
   "source": [
    "_Sets_: Sets are unordered collections of unique elements. Sets are unalterable. Unlike tuples, sets are not\n",
    "indexed."
   ]
  },
  {
   "cell_type": "code",
   "execution_count": null,
   "id": "682b4a96",
   "metadata": {},
   "outputs": [],
   "source": [
    "new_set = {\"Bordeaux\", \"Aix-en-Provence\", \"Nice\", \"Rennes\"}\n",
    "other_set = {\"Nice\", \"Rennes\", \"Lyon\"}\n",
    "third_set = new_set | other_set\n",
    "\n",
    "print(third_set)"
   ]
  },
  {
   "cell_type": "markdown",
   "id": "d4cd4c9e",
   "metadata": {},
   "source": [
    "_Dictionaries_: Python dictionaries are an implementation of key-value objects, the keys being\n",
    "indexed. Keys are often text, values can be of different types and structures. To create a dictionary, you can proceed by using braces ({})."
   ]
  },
  {
   "cell_type": "code",
   "execution_count": null,
   "id": "7805862d",
   "metadata": {},
   "outputs": [],
   "source": [
    "my_dict = { \"nom\": \"Kyrie\",\n",
    "\"prenom\": \"John\",\n",
    "\"naissance\": 1992,\n",
    "\"equipes\": [\"Cleveland\", \"Boston\"]}\n",
    "print(my_dict)"
   ]
  },
  {
   "cell_type": "code",
   "execution_count": null,
   "id": "01556f06",
   "metadata": {},
   "outputs": [],
   "source": [
    "print(my_dict[\"equipes\"])"
   ]
  },
  {
   "cell_type": "code",
   "execution_count": null,
   "id": "12778317",
   "metadata": {},
   "outputs": [],
   "source": [
    "my_dict[\"equipes\"] = [\"Montclair Kimberley Academy\",\n",
    "\"Cleveland Cavaliers\", \"Boston Celtics\"]\n",
    "print(my_dict)"
   ]
  },
  {
   "cell_type": "markdown",
   "id": "fb0f88c1-9eab-4e9b-8918-645654991095",
   "metadata": {},
   "source": [
    "## Numerical Python or `numpy`"
   ]
  },
  {
   "cell_type": "markdown",
   "id": "051e6667-a6fd-43e1-b9d7-3e1d6d3639ef",
   "metadata": {},
   "source": [
    "Import `numpy` to use it."
   ]
  },
  {
   "cell_type": "code",
   "execution_count": null,
   "id": "b458d658-79d5-48d2-a96e-f28bef6b8956",
   "metadata": {},
   "outputs": [],
   "source": [
    "import numpy as np"
   ]
  },
  {
   "cell_type": "markdown",
   "id": "2b5d1886-3a3e-454c-b969-0c74827d46f8",
   "metadata": {},
   "source": [
    "We named the `numpy` package `np` to ease its utilization. "
   ]
  },
  {
   "cell_type": "markdown",
   "id": "a7b986b6-7922-410f-a572-323a3a60e14c",
   "metadata": {},
   "source": [
    "`Numpy` contains several functions to do numerical calculation in python. On of them is `np.array()` to define `x' and `y', which are vectors."
   ]
  },
  {
   "cell_type": "code",
   "execution_count": null,
   "id": "8b0088e8-8391-4b68-9104-c3184287ba1a",
   "metadata": {},
   "outputs": [],
   "source": [
    "x = np.array([3, 4, 5])\n",
    "y = np.array([4, 9, 7])\n",
    "print(x, y)"
   ]
  },
  {
   "cell_type": "code",
   "execution_count": null,
   "id": "099c2590-42b4-4dea-96de-7047f75d55c7",
   "metadata": {},
   "outputs": [],
   "source": [
    "x + y "
   ]
  },
  {
   "cell_type": "markdown",
   "id": "979bc151-7f0b-4103-82b5-4d83ccef7df8",
   "metadata": {},
   "source": [
    "We can also create matrices (i.e., 2D arrays). Can either use `np.matrix()` or `np.array()`. Let's use `np.array`. Pay attention to the synthax to create it."
   ]
  },
  {
   "cell_type": "code",
   "execution_count": null,
   "id": "742fb4c0-e888-4b5c-83bc-2e8b1aad29cb",
   "metadata": {},
   "outputs": [],
   "source": [
    "x = np.array([[1,2], [3,4]]) \n",
    "x"
   ]
  },
  {
   "cell_type": "markdown",
   "id": "9b585470-3375-428c-918d-bb5025998388",
   "metadata": {},
   "source": [
    "`x` has several _attributes_ that can be access using `x.attribute` after replacing `attribute` by the name of the attribute in which we are interested. For instance, we can check its dimension, data type, shape. For more, just see `np.array`"
   ]
  },
  {
   "cell_type": "code",
   "execution_count": null,
   "id": "d01b34b9-1f80-4b89-b390-73d1ccba3ed3",
   "metadata": {},
   "outputs": [],
   "source": [
    "x.ndim #Its a 2D array"
   ]
  },
  {
   "cell_type": "code",
   "execution_count": null,
   "id": "12567297-37ba-494a-942d-92227fdb6c6a",
   "metadata": {},
   "outputs": [],
   "source": [
    "x.dtype #x is composed of 32-bit integers"
   ]
  },
  {
   "cell_type": "code",
   "execution_count": null,
   "id": "690c76dd-b806-4a72-91c6-04799b39a1a6",
   "metadata": {
    "scrolled": true
   },
   "outputs": [],
   "source": [
    "x.shape  #has two rows and two columns"
   ]
  },
  {
   "cell_type": "markdown",
   "id": "7e9f4e68-f0fa-4546-bac2-6fdce5a430fd",
   "metadata": {},
   "source": [
    "We can access the different values of the array using `x[i,j]` with _i_ the row number and _j_ the column number. **Indexation starts at 0**, meaning that to access the first row and first column we have to type the following"
   ]
  },
  {
   "cell_type": "code",
   "execution_count": null,
   "id": "55881e0f-eb4e-4ec2-8e9a-0debf31bfa7d",
   "metadata": {},
   "outputs": [],
   "source": [
    "x[1,1]"
   ]
  },
  {
   "cell_type": "markdown",
   "id": "fd9c99cd-2bc4-4526-96cb-b0592449df3b",
   "metadata": {},
   "source": [
    "We can apply mathematical functions to any arrays. For instance `np.sqrt(x)` returns the square root of x, `x**2` squares it. "
   ]
  },
  {
   "cell_type": "markdown",
   "id": "33633f5a-2d64-4f22-8d12-1557dbd5c8a3",
   "metadata": {},
   "source": [
    "We are going to generate random data during this class. To do it, we will rely mostly on the `np.random.normal()` function to create vector of random normal variables. The function takes 3 arguments `normal(loc=0.0, scale=1.0, size=None)`. By default, it generates random normal variables with mean (`loc`) **0**, standard deviation (`scale`) **1**, and only one variable unless we change `size`."
   ]
  },
  {
   "cell_type": "markdown",
   "id": "d797cf78-7ee4-4e1f-b122-90736d081814",
   "metadata": {},
   "source": [
    "We now generate 100 independent random variables from a ***N*****(0,1)** distribution."
   ]
  },
  {
   "cell_type": "code",
   "execution_count": null,
   "id": "90abea52-ad70-444b-8b09-675884a0a37a",
   "metadata": {},
   "outputs": [],
   "source": [
    "#Run it few times, what do you observe?\n",
    "x = np.random.normal(size=100)\n",
    "x"
   ]
  },
  {
   "cell_type": "markdown",
   "id": "587ecf36-f19c-481a-8c3f-e5ecfab48b58",
   "metadata": {},
   "source": [
    "In order to ensure that our code provides exactly the same results each time it is run, we can set a random seed using the `np.random.default_rng()` function. If we set a random seed before generating random data, then re-running our code will yield the same results. Hence, to generate normal data we use `rng.normal()`."
   ]
  },
  {
   "cell_type": "code",
   "execution_count": null,
   "id": "21ed671a-5b4e-48ac-8a8c-ed55223c4a27",
   "metadata": {
    "scrolled": true
   },
   "outputs": [],
   "source": [
    "rng = np.random.default_rng(1303)\n",
    "print(rng.normal(scale=5, size=2))\n",
    "\n",
    "rng2 = np.random.default_rng(1303)\n",
    "print(rng2.normal(scale=5, size=5))"
   ]
  },
  {
   "cell_type": "code",
   "execution_count": null,
   "id": "5773ae7f",
   "metadata": {},
   "outputs": [],
   "source": [
    "np.random?"
   ]
  },
  {
   "cell_type": "markdown",
   "id": "aec2c360-0d75-4c0d-a30b-f84c800b4883",
   "metadata": {},
   "source": [
    "## Graphics"
   ]
  },
  {
   "cell_type": "markdown",
   "id": "60291de7-26fd-4dec-88cd-a420d1978101",
   "metadata": {},
   "source": [
    "Its common to use `matplotlib` for graphics. In `matplotlib`, a plot consists of a figure and one or more axes. The axes contain important information about each plot, such as its axis labels, or title.\n",
    "\n",
    "We first import the `subplots()` function from `matplotlib`. The function returns a tuple of length two: a figure object as well as the relevant axes object. We will typically pass figsize as a keyword argument. Having created our axes, we attempt our first plot using its plot() method. To learn more about it, type `ax.plot?`."
   ]
  },
  {
   "cell_type": "code",
   "execution_count": null,
   "id": "42b37638-b1ee-4c5b-9012-05901601811a",
   "metadata": {},
   "outputs": [],
   "source": [
    "from matplotlib.pyplot import subplots"
   ]
  },
  {
   "cell_type": "code",
   "execution_count": null,
   "id": "e0a93586-5fd8-4cc1-9621-a7c7396a105c",
   "metadata": {},
   "outputs": [],
   "source": [
    "#Create two random variables as example\n",
    "x = rng.standard_normal(100)\n",
    "y = rng.standard_normal(100)\n",
    "print(x)\n",
    "print(y)"
   ]
  },
  {
   "cell_type": "code",
   "execution_count": null,
   "id": "a4d0e99d-91f7-421f-bfbb-b0854104932b",
   "metadata": {},
   "outputs": [],
   "source": [
    "output = subplots(figsize=(8, 8))\n",
    "fig = output[0]\n",
    "ax = output[1]\n",
    "print(type(output))\n",
    "print(output)"
   ]
  },
  {
   "cell_type": "markdown",
   "id": "c0bd17a6-f874-4d3d-9b3d-d5899583af94",
   "metadata": {},
   "source": [
    "Create a scatterplot, add an argument to `ax.plot()`, indicating that circles should be displayed."
   ]
  },
  {
   "cell_type": "code",
   "execution_count": null,
   "id": "b58cbd04-43f5-447b-9da1-f43a981af082",
   "metadata": {},
   "outputs": [],
   "source": [
    "fig, ax = subplots(figsize=(8,8))\n",
    "ax.plot(x,y,'o')"
   ]
  },
  {
   "cell_type": "markdown",
   "id": "6f7d68c7-8765-46bd-a696-66cffa1d2358",
   "metadata": {},
   "source": [
    "Alternative way is to use `ax.scatter()` function."
   ]
  },
  {
   "cell_type": "code",
   "execution_count": null,
   "id": "976b397b-07ac-4adc-b1b0-7895abb3e98e",
   "metadata": {},
   "outputs": [],
   "source": [
    "fig, ax = subplots(figsize=(8,8))\n",
    "ax.scatter(x,y, marker='o');"
   ]
  },
  {
   "cell_type": "markdown",
   "id": "48b00b63-fcd0-42b0-b78a-35c111885d4d",
   "metadata": {},
   "source": [
    "To label our plot, we can use `set_xlabel()`, `set_ylabel()`, and `set_title()` methods of `ax`."
   ]
  },
  {
   "cell_type": "code",
   "execution_count": null,
   "id": "55f541ea-5b0e-412a-875d-9045ba020767",
   "metadata": {},
   "outputs": [],
   "source": [
    "fig, ax = subplots(figsize=(10,10))\n",
    "ax.scatter(x,y, marker='o')\n",
    "ax.set_xlabel(\"this is the x-axis\")\n",
    "ax.set_ylabel(\"this is the y-axis\")\n",
    "ax.set_title(\"Plot of X vs Y\");"
   ]
  },
  {
   "cell_type": "markdown",
   "id": "85378dad-13bc-44ca-8b6f-311de68b91a8",
   "metadata": {},
   "source": [
    "Can create several plots within a figure by adding additional arguments to `subplots()`. Let crate a `3x2` plots grid in a figure size determined by the `figsize`argument. If we want to set a commong _x-axis_, we can add  `sherex=True`."
   ]
  },
  {
   "cell_type": "code",
   "execution_count": null,
   "id": "0824f6c1-137e-414d-abd2-4aaf5c3ebc68",
   "metadata": {},
   "outputs": [],
   "source": [
    "fig, axes = subplots(nrows=3,\n",
    "                     ncols=2,\n",
    "                     figsize=(10, 10))"
   ]
  },
  {
   "cell_type": "markdown",
   "id": "61e04b4a-e723-4e4a-ba93-6cda92aa6406",
   "metadata": {},
   "source": [
    "Fill up scatter plot with `o`in the first row of the first column and a scatter plot with `d` in the last row of the last column."
   ]
  },
  {
   "cell_type": "code",
   "execution_count": null,
   "id": "9a66a641-8449-44a8-aacc-4fd1a76b006e",
   "metadata": {},
   "outputs": [],
   "source": [
    "axes[0,0].plot(x,y, 'o')\n",
    "axes[2,1].scatter(x,y,marker='d')\n",
    "fig"
   ]
  },
  {
   "cell_type": "markdown",
   "id": "e26b7c32-5a45-4ca7-9f80-273537500025",
   "metadata": {},
   "source": [
    "To save the figures, we call `savefig()`and set value in `dpi`(dots per inch) to determine the quality."
   ]
  },
  {
   "cell_type": "code",
   "execution_count": null,
   "id": "47add831-eb10-4a93-920d-22250c98fb5a",
   "metadata": {},
   "outputs": [],
   "source": [
    "fig.savefig(\"Figure.png\", dpi=400)\n"
   ]
  },
  {
   "cell_type": "markdown",
   "id": "b2336eb7-aef8-42a3-8b15-1e998f41d6e1",
   "metadata": {},
   "source": [
    "## Indexing data"
   ]
  },
  {
   "cell_type": "code",
   "execution_count": null,
   "id": "73fc33da-2db5-44a7-a2e6-a8a7115ac0dc",
   "metadata": {},
   "outputs": [],
   "source": [
    "A = np.array(np.arange(16)).reshape((4, 4))\n",
    "A"
   ]
  },
  {
   "cell_type": "markdown",
   "id": "012dd8ec-fad5-4ac1-9f7e-67d9642ec2ff",
   "metadata": {},
   "source": [
    "`A[1,2]`shows the element corresponding to the second row and third column."
   ]
  },
  {
   "cell_type": "code",
   "execution_count": null,
   "id": "23b7c32e-bf6d-4df0-bfa8-e79914c73ffa",
   "metadata": {},
   "outputs": [],
   "source": [
    "A[1,2]"
   ]
  },
  {
   "cell_type": "markdown",
   "id": "35ed448e-d463-4f63-855a-0ccced8558fa",
   "metadata": {},
   "source": [
    "### Indexing rows, columns, and submatrices"
   ]
  },
  {
   "cell_type": "markdown",
   "id": "598a5631-af4e-463d-b335-7c6b4c369ef5",
   "metadata": {},
   "source": [
    "Selecting multiple rows at a time: `[1,3]` will show the second and fourth rows:"
   ]
  },
  {
   "cell_type": "code",
   "execution_count": null,
   "id": "8932213c-ae7c-4347-87ad-269384473a6f",
   "metadata": {},
   "outputs": [],
   "source": [
    "A[[1,3]]"
   ]
  },
  {
   "cell_type": "markdown",
   "id": "bdac3eb2-9988-42d9-abdf-88933fa156c8",
   "metadata": {},
   "source": [
    "To select the first and third columns:  `[0,2]`- as the second argument in the square brackets. Then supply the first argument `:` which selects all rows."
   ]
  },
  {
   "cell_type": "code",
   "execution_count": null,
   "id": "fa6bdb6a-1048-4379-b6e8-3331b9400c38",
   "metadata": {},
   "outputs": [],
   "source": [
    "A[[2],[0,2]]"
   ]
  },
  {
   "cell_type": "markdown",
   "id": "9497338a-fe3d-4a5b-b17e-9783a1a76700",
   "metadata": {},
   "source": [
    "Now, suppose that we want to select the submatrix made up of the second and fourth rows as well as the first and third columns. An easy way to do it is using `np.ix()`to extract a submatrix using lists. "
   ]
  },
  {
   "cell_type": "code",
   "execution_count": null,
   "id": "8aacf3d7-4405-44f3-8212-ff6de81d7a5f",
   "metadata": {},
   "outputs": [],
   "source": [
    "idx = np.ix_([2],[0,2])\n",
    "A[idx]"
   ]
  },
  {
   "cell_type": "markdown",
   "id": "5afba5ee-67b0-444d-9971-f9c2ec54044a",
   "metadata": {},
   "source": [
    "Another option is subset matrices using slices"
   ]
  },
  {
   "cell_type": "code",
   "execution_count": null,
   "id": "f8f0b527-596b-49fa-9a42-e348c07344f7",
   "metadata": {},
   "outputs": [],
   "source": [
    "A[1:4:2,0:3:2]"
   ]
  },
  {
   "cell_type": "markdown",
   "id": "39cb6256-cec2-470b-b8af-005861f541b8",
   "metadata": {},
   "source": [
    "### Boolean indexing"
   ]
  },
  {
   "cell_type": "markdown",
   "id": "2d14f2f1-1a58-4888-9a38-34950e913521",
   "metadata": {},
   "source": [
    "A *boolean* array has elements which equal either `True` (=1) or `False` (=0). The next line creates a vector of 0's of length equal to the first dimension of `A`. "
   ]
  },
  {
   "cell_type": "code",
   "execution_count": null,
   "id": "0c3d3660-c3c5-434f-92ba-8c81073963cb",
   "metadata": {},
   "outputs": [],
   "source": [
    "keep_rows = np.zeros(A.shape[0], bool)\n",
    "keep_rows"
   ]
  },
  {
   "cell_type": "markdown",
   "id": "2365e8a8-727a-4b88-bff3-1fb2df41b363",
   "metadata": {},
   "source": [
    "We now set the second and last element to true"
   ]
  },
  {
   "cell_type": "code",
   "execution_count": null,
   "id": "cb168894-622c-4415-84c2-d4d1826fe312",
   "metadata": {},
   "outputs": [],
   "source": [
    "keep_rows[[1,3]] = True\n",
    "keep_rows"
   ]
  },
  {
   "cell_type": "markdown",
   "id": "1745b53f-fb9e-4360-ab80-550c49a91fe6",
   "metadata": {},
   "source": [
    "## Loading data"
   ]
  },
  {
   "cell_type": "markdown",
   "id": "70cbf8e3-8fdf-4047-8bf8-d5c43c51f32a",
   "metadata": {},
   "source": [
    "The `Pandas` library can be used to create and work with data frame. "
   ]
  },
  {
   "cell_type": "markdown",
   "id": "22ccec62-75c6-4b4c-8aae-048f742a029d",
   "metadata": {},
   "source": [
    "### Reading a dataset"
   ]
  },
  {
   "cell_type": "code",
   "execution_count": null,
   "id": "7bda2402-b4d6-4e11-883d-d3c6d0ff7dba",
   "metadata": {},
   "outputs": [],
   "source": [
    "import pandas as pd # Import pandas"
   ]
  },
  {
   "cell_type": "code",
   "execution_count": null,
   "id": "e5848956-75a9-409f-891d-4a7637889cb8",
   "metadata": {},
   "outputs": [],
   "source": [
    "Auto = pd.read_csv('Data/Auto.csv')\n",
    "Auto"
   ]
  },
  {
   "cell_type": "markdown",
   "id": "21bf4aaf-aa48-4c31-a7cb-bab81961f228",
   "metadata": {},
   "source": [
    "Can have a further look at a specific variable, `horsepower` here."
   ]
  },
  {
   "cell_type": "code",
   "execution_count": null,
   "id": "c45aa12c-fbdf-45be-b6ba-96160aaeadc5",
   "metadata": {},
   "outputs": [],
   "source": [
    "Auto['horsepower']"
   ]
  },
  {
   "cell_type": "markdown",
   "id": "0dc6b1be-5555-46a9-94a0-0995ce51ac73",
   "metadata": {},
   "source": [
    "`Auto.shape` tells us the number of observations (rows) and variables (columns). "
   ]
  },
  {
   "cell_type": "code",
   "execution_count": null,
   "id": "ac9c5e3b-179d-41f9-957b-71812011c9f2",
   "metadata": {},
   "outputs": [],
   "source": [
    "Auto.shape"
   ]
  },
  {
   "cell_type": "markdown",
   "id": "72dc9604-6d9d-43c5-a2c5-3c7fa0be8e7e",
   "metadata": {},
   "source": [
    "### Selecting rows and columns"
   ]
  },
  {
   "cell_type": "code",
   "execution_count": null,
   "id": "d3c623d2-87eb-4bdf-adbc-3dec365f74ae",
   "metadata": {},
   "outputs": [],
   "source": [
    "Auto.columns"
   ]
  },
  {
   "cell_type": "markdown",
   "id": "771e775a-6202-407f-add1-55fbc66df5e5",
   "metadata": {},
   "source": [
    "Select the first 4 rows of the dataset"
   ]
  },
  {
   "cell_type": "code",
   "execution_count": null,
   "id": "d554780f-98af-46ab-8785-ead95999f4a0",
   "metadata": {},
   "outputs": [],
   "source": [
    "Auto[:4]"
   ]
  },
  {
   "cell_type": "markdown",
   "id": "062fb326-0c55-4744-b469-2c57640be44a",
   "metadata": {},
   "source": [
    "Let's keep only the observations for which year is higher than 80 "
   ]
  },
  {
   "cell_type": "code",
   "execution_count": null,
   "id": "1201f0ff-1095-450b-8260-26f9a49e5ddf",
   "metadata": {},
   "outputs": [],
   "source": [
    "idx_80 = Auto['year'] > 80\n",
    "Auto[idx_80]"
   ]
  },
  {
   "cell_type": "markdown",
   "id": "7bb902a8-23d4-45cf-9ee8-7f46226ff56e",
   "metadata": {},
   "source": [
    "Have a look at a *subset* of columns. "
   ]
  },
  {
   "cell_type": "code",
   "execution_count": null,
   "id": "5733855a-3365-4a04-aca1-c346e3705df0",
   "metadata": {},
   "outputs": [],
   "source": [
    "Auto[['mpg', 'year']]"
   ]
  },
  {
   "cell_type": "code",
   "execution_count": null,
   "id": "eb1b40d0-152e-4bde-be6e-0e9815316f8b",
   "metadata": {},
   "outputs": [],
   "source": [
    "Auto.index"
   ]
  },
  {
   "cell_type": "markdown",
   "id": "f234fc08-2d0f-47af-9bd3-9dd8bd39c225",
   "metadata": {},
   "source": [
    "As you can see, the first column at the left is the row index, here labeled from 0 to 392. Next, we will rename the index using the content of the name column."
   ]
  },
  {
   "cell_type": "code",
   "execution_count": null,
   "id": "39260490-b298-4c27-98a7-7e8e0a2b6c86",
   "metadata": {},
   "outputs": [],
   "source": [
    "Auto_re = Auto.set_index('name')\n",
    "Auto_re"
   ]
  },
  {
   "cell_type": "markdown",
   "id": "1687f80c-9d3b-4b47-bc20-b8e77bc1cdfe",
   "metadata": {},
   "source": [
    "We can now access rows of the data by `name`"
   ]
  },
  {
   "cell_type": "code",
   "execution_count": null,
   "id": "efe6e493-6bc3-43fa-a75b-bf217fbc86e1",
   "metadata": {},
   "outputs": [],
   "source": [
    "rows = ['amc rebel sst', 'ford torino']\n",
    "Auto_re.loc[rows]"
   ]
  },
  {
   "cell_type": "markdown",
   "id": "b480dc6e-70df-491d-8f3d-766e59c2f0a9",
   "metadata": {},
   "source": [
    "We can extract the 4th and 5th rows, as well as the 1st, 3rd and 4th columns, using a single call to iloc[]:"
   ]
  },
  {
   "cell_type": "code",
   "execution_count": null,
   "id": "6e585451-32d3-476a-bfa5-42f661c2723b",
   "metadata": {},
   "outputs": [],
   "source": [
    "Auto_re.iloc[[3,4],[0,2,3]]\n"
   ]
  },
  {
   "cell_type": "markdown",
   "id": "16b4a554-fad5-4114-9415-d47bb41d9af3",
   "metadata": {},
   "source": [
    "Suppose now that we want to create a data frame consisting of the `weight` and `origin` of the subset of cars with year greater than 80. We first create a Boolean array that indexes the rows. The `loc[]` method allows for Boolean entries as well as strings:"
   ]
  },
  {
   "cell_type": "code",
   "execution_count": null,
   "id": "5b8492a2-b914-46ef-bf19-4e5d5144dc3d",
   "metadata": {},
   "outputs": [],
   "source": [
    "idx_80 = Auto_re['year'] > 80\n",
    "Auto_re.loc[idx_80, ['weight', 'origin']]"
   ]
  },
  {
   "cell_type": "markdown",
   "id": "74a5d0b8-8388-4d70-af3b-c736a964f5e1",
   "metadata": {},
   "source": [
    "An alternative way is to use an anonymous function called a `lambda` function. This  creates a function that takes a single argument, `df`, and returns `df['year']>80`. As it is created inside `loc[]` for the dataframe `Auto_re`. "
   ]
  },
  {
   "cell_type": "code",
   "execution_count": null,
   "id": "932c4a41-853b-49a4-9579-1a239a49ba44",
   "metadata": {},
   "outputs": [],
   "source": [
    "Auto_re.loc[lambda df: df['year'] > 80, ['weight', 'origin']]"
   ]
  },
  {
   "cell_type": "markdown",
   "id": "d4c5d243-6e13-49de-a937-5be45ff4de16",
   "metadata": {},
   "source": [
    "The symbol `&` computes an element-wise *and* operation, `| `for an *or* operation. As another example, suppose that we want to retrieve all `Ford` and `Datsun` cars with `displacement` less than 300. We check whether each `name` entry contains either the string `ford` or `datsun` using the `str.contains()` method of the `index` attribute of of the dataframe:"
   ]
  },
  {
   "cell_type": "code",
   "execution_count": null,
   "id": "448a6e19-b5ec-423f-bf72-783b5f2934fd",
   "metadata": {},
   "outputs": [],
   "source": [
    "Auto_re.loc[lambda df: (df['displacement'] < 300)\n",
    "                       & (df.index.str.contains('ford')\n",
    "                       | df.index.str.contains('datsun')),\n",
    "            ['weight', 'origin']\n",
    "           ]"
   ]
  },
  {
   "cell_type": "markdown",
   "id": "22e16405",
   "metadata": {},
   "source": [
    "## Flow control"
   ]
  },
  {
   "cell_type": "code",
   "execution_count": null,
   "id": "97d4bba0",
   "metadata": {},
   "outputs": [],
   "source": [
    "a = range(10)\n",
    "a"
   ]
  },
  {
   "cell_type": "code",
   "execution_count": null,
   "id": "4bdf623f",
   "metadata": {},
   "outputs": [],
   "source": [
    "list(a)"
   ]
  },
  {
   "cell_type": "markdown",
   "id": "dd2aabca",
   "metadata": {},
   "source": [
    "### For loop"
   ]
  },
  {
   "cell_type": "code",
   "execution_count": null,
   "id": "7ae4e6e2",
   "metadata": {},
   "outputs": [],
   "source": [
    "for k in a:\n",
    "    print(k)"
   ]
  },
  {
   "cell_type": "code",
   "execution_count": null,
   "id": "e04b2339",
   "metadata": {},
   "outputs": [],
   "source": [
    "k = 0\n",
    "while k <10:\n",
    "    print(k) #print the value of k for that iteration\n",
    "    k +=1    # increment the value of k"
   ]
  },
  {
   "cell_type": "markdown",
   "id": "ea0f7f24",
   "metadata": {},
   "source": [
    "### If else"
   ]
  },
  {
   "cell_type": "code",
   "execution_count": null,
   "id": "2ba94943",
   "metadata": {},
   "outputs": [],
   "source": [
    "k = 0\n",
    "while k < 10:\n",
    "    if k%2 == 0 and k%3 == 0: # k%2 means the remainder of this division\n",
    "        print(\"%s is divisible by 2 and by 3\" % k)\n",
    "    elif k%2 == 0:\n",
    "        print(\"%d is divisible by 2\" % k)\n",
    "    elif k%3 == 0:\n",
    "        print(\"{} is divisible by 3\".format(k))\n",
    "    else:\n",
    "       print(f\"{k} is neither divisible by 2 nor by 3\")\n",
    "    k += 1"
   ]
  },
  {
   "cell_type": "code",
   "execution_count": null,
   "id": "b5abc9e4",
   "metadata": {},
   "outputs": [],
   "source": [
    "k = 0\n",
    "while k < 10:\n",
    "    if k%2 == 0 and k%3 == 0: # k%2 means the reminder of this division\n",
    "        print(\"%s is divisible by 2 and by 3\" % k)\n",
    "    elif k%2 == 0:\n",
    "        print(\"%d is divisible by 2\" % k) #just the number divisible by 2\n",
    "    #elif k%3 == 0:\n",
    "    #    print(\"{} is divisible by 3\".format(k))\n",
    "    #else:\n",
    "     #   print(f\"{k} is neither divisible by 2 nor by 3\")\n",
    "    k += 1"
   ]
  },
  {
   "cell_type": "markdown",
   "id": "1fd80aee",
   "metadata": {},
   "source": [
    "### Enumerate\n",
    "Here is how to do _standard_ loops where you refer to an element of a list with an index but using the enumerate() method"
   ]
  },
  {
   "cell_type": "code",
   "execution_count": null,
   "id": "ddb379d1",
   "metadata": {},
   "outputs": [],
   "source": [
    "a = ['python', 'is', 'so', 'easy', '!']\n",
    "a2 = ['one', 'two', 'three', 'four', 'five']\n"
   ]
  },
  {
   "cell_type": "markdown",
   "id": "897621c3",
   "metadata": {},
   "source": [
    "1st row: Ask to take the elements in the enumerate of a (first list) in the order of the list ; then we also ask to add the index of each element (the position in the list); also do it for a2\n",
    " "
   ]
  },
  {
   "cell_type": "code",
   "execution_count": null,
   "id": "c96ea0e0",
   "metadata": {},
   "outputs": [],
   "source": [
    "for idx, el in enumerate(a): \n",
    "    print(idx, a[idx], a2[idx])"
   ]
  },
  {
   "cell_type": "markdown",
   "id": "9ba36914",
   "metadata": {},
   "source": [
    "## Functions\n",
    "Functions are useful tools if we plan to do a task many times"
   ]
  },
  {
   "cell_type": "code",
   "execution_count": null,
   "id": "9763e373",
   "metadata": {},
   "outputs": [],
   "source": [
    "def power_y(x, y = 2): #add_two = name of the function ; (x) = the argument\n",
    "    return x ** y #this is what the function does"
   ]
  },
  {
   "cell_type": "code",
   "execution_count": null,
   "id": "1da662db",
   "metadata": {},
   "outputs": [],
   "source": [
    "power_y(4, y = 3)"
   ]
  },
  {
   "cell_type": "code",
   "execution_count": null,
   "id": "f019a28d",
   "metadata": {},
   "outputs": [],
   "source": [
    "def hello():\n",
    "    print('Hello World')"
   ]
  },
  {
   "cell_type": "code",
   "execution_count": null,
   "id": "fb392837",
   "metadata": {},
   "outputs": [],
   "source": [
    "hello()"
   ]
  },
  {
   "cell_type": "code",
   "execution_count": null,
   "id": "61266206",
   "metadata": {},
   "outputs": [],
   "source": [
    "n=add_two(10)\n",
    "n"
   ]
  },
  {
   "cell_type": "markdown",
   "id": "0828f964-30d9-4e16-b865-53d7054227e4",
   "metadata": {},
   "source": [
    "## Exercise\n",
    "\n",
    "1. Upload the Vahatra_defor_noNA database from Moodle.\n",
    "2. Print it.\n",
    "3. Display the list of all column names.\n",
    "4. Shorten the column names which end with the suffix \"-01-01_treecover_ha\".\n",
    "5. Compute the average deforestation rate over the period 2010-2020 and assign it to a new column.\n",
    "6. Create a scatter plot of the deforestation rate and the initial forested area of the protected areas.\n",
    "7. Create a scatter plot of the deforestation rate and the distance to the closest city."
   ]
  },
  {
   "cell_type": "code",
   "execution_count": null,
   "id": "3e7166be-e298-4109-957f-c72eda134162",
   "metadata": {},
   "outputs": [],
   "source": [
    "#Type your answers in several cells here"
   ]
  }
 ],
 "metadata": {
  "kernelspec": {
   "display_name": "Python 3 (ipykernel)",
   "language": "python",
   "name": "python3"
  },
  "language_info": {
   "codemirror_mode": {
    "name": "ipython",
    "version": 3
   },
   "file_extension": ".py",
   "mimetype": "text/x-python",
   "name": "python",
   "nbconvert_exporter": "python",
   "pygments_lexer": "ipython3",
   "version": "3.13.7"
  }
 },
 "nbformat": 4,
 "nbformat_minor": 5
}
