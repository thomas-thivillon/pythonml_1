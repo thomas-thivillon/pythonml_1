{
 "cells": [
  {
   "cell_type": "markdown",
   "id": "ffb774f5-59c6-46a7-ae45-d486c25681d5",
   "metadata": {
    "jp-MarkdownHeadingCollapsed": true
   },
   "source": [
    "# Introduction to the Python programming language\n",
    "\n",
    "Thomas Thivillon\n",
    "\n",
    "2025-09-22 \n",
    "\n",
    "_Note_: This notebook is adapted from Gallic (2019), James et al. (2023) and Galiana (2025).\n",
    "\n",
    "# 1. Introduction\n",
    "\n",
    "This chapter provides an introduction to `Python` programming in the `JupyterLab` interactive development environment (IDE). This notebook was prepared for `Python` version 3.x.\n",
    "\n",
    "<div class=\"callout callout-tip\">\n",
    "  <div class=\"callout-header\">\n",
    "    <div class=\"callout-icon\"></div>\n",
    "    Contents covered in this chapter:\n",
    "  </div>\n",
    "  <div class=\"callout-body\">\n",
    "    <ul>\n",
    "      <li>Types of data in Python</li>\n",
    "      <li>Structures</li>\n",
    "      <li>Operators and conditions</li>\n",
    "      <li>Loops and functions</li>\n",
    "    </ul>\n",
    "  </div>\n",
    "</div>\n",
    "\n",
    "\n",
    "## 1.1 JupyterLab and Jupyter Notebook\n",
    "\n",
    "`Jupyter Notebook` is a web-based application for creating and sharing computational documents that contain code and text (as well as equations and graphs). It can be used with R, Julia, and other languages in addition to Python. \n",
    "\n",
    "`JupyterLab` is an interactive development environment designed as a multi-document interface. It allows users to work with several notebooks and with an integrated terminal in the same interface. In this course we will work with `JupyterLab` because it is supported by `SSP Cloud.\n",
    "\n",
    "### 1.1.1 Notebooks\n",
    "\n",
    "You are currently in a notebook that I have created. You can open a new `cell` by typing `alt` + `Enter`. Try it out now: click on the current cell and type `alt` + `Enter`.\n",
    "\n",
    "Once the cell is created you can type `ctrl` + `enter` to execute it. Try it out now. Then type `D` twice to delete the cell."
   ]
  },
  {
   "cell_type": "markdown",
   "id": "78d120d8-f94c-4fab-b571-dc98d3a3d97f",
   "metadata": {},
   "source": [
    "### 1.1.2 Evaluation of an instruction\n",
    "\n",
    "Now let's open a new cell again below the current one and write the following instruction:\n",
    "\n",
    "`2 + 1`\n",
    "\n",
    "Once again to submit/execute the instruction, the fastest way is the keyboard shortcut: `ctrl` + `Enter`. Try it now."
   ]
  },
  {
   "cell_type": "markdown",
   "id": "7255f180-c7fc-4558-b2a5-b9cd206eb6e9",
   "metadata": {},
   "source": [
    "### 1.1.3 Using Markdown cells to comment your code\n",
    "\n",
    "When you first create a new cell, it is defined as a code cell. You can switch to a `Markdown` cell by typing `esc` and then `M` on your keyboard when you are in the cell. To switch back to code mode type `esc` &rarr; `Y`.\n",
    "\n",
    "`Markdown` is a simple programming language for creating formatted text using a plain-text editor. All the text cells in this notebook contain Markdown code. Visit the [Markdown Guide](https://www.markdownguide.org/) for a detailed presentation of the `Markdown` syntax.\n",
    "\n",
    "As a quick Markdown exercise, create a new cell below this one using the keyboard shortcut you have learned before and switch to `Markdown` mode. Type a short sentence in the cell and put the last word of the sentence between two double stars (**). What do you notice?\n"
   ]
  },
  {
   "cell_type": "markdown",
   "id": "bb0b075b-927e-4b79-a91a-7940f902d475",
   "metadata": {},
   "source": [
    "## 1.2 Variables\n",
    "\n",
    "### 1.2.1 Using variables\n",
    "\n",
    "When we want Python to store a result in memory, we need to assign it to a *variable*. To create a variable, we use the equality sign (=) and assign the result (or any object) to the variable name using the following syntax: `variable_name = object`.\n",
    "\n",
    "We can display the content of a variable using the function `print()`:\n",
    "\n",
    "`print(variable_name)`\n",
    "\n",
    "Or simply by typing the variable name:"
   ]
  },
  {
   "cell_type": "code",
   "execution_count": null,
   "id": "4bfb35c6-c5ae-4c5e-b8e9-8d3f2f160860",
   "metadata": {},
   "outputs": [],
   "source": [
    "x = 7\n",
    "print(x)\n",
    "x"
   ]
  },
  {
   "cell_type": "markdown",
   "id": "e28636c2-2135-40b9-8cbe-b8ce8988c70a",
   "metadata": {},
   "source": [
    "Change the value of the variable with a new assignment:"
   ]
  },
  {
   "cell_type": "code",
   "execution_count": null,
   "id": "e46ff25d-f645-4160-bd9f-ff1c0ee56b37",
   "metadata": {},
   "outputs": [],
   "source": [
    "x = 8\n",
    "x"
   ]
  },
  {
   "cell_type": "code",
   "execution_count": null,
   "id": "1fdec35d-091c-4812-bbc3-810bee29800e",
   "metadata": {},
   "outputs": [],
   "source": [
    "x = \"Madagascar\"\n",
    "x"
   ]
  },
  {
   "cell_type": "markdown",
   "id": "59d4295b-d9f0-4d00-b7ed-c0a5a6e5aa17",
   "metadata": {},
   "source": [
    "It is possible to create copies of a variable. The original variable will not be affected when changes are made to the copy:"
   ]
  },
  {
   "cell_type": "code",
   "execution_count": null,
   "id": "37939b42-34f0-4cbc-8014-ecaebe9e6b5e",
   "metadata": {},
   "outputs": [],
   "source": [
    "y = x\n",
    "y"
   ]
  },
  {
   "cell_type": "code",
   "execution_count": null,
   "id": "906bbde6-3341-48f0-beef-2ba36fce541a",
   "metadata": {},
   "outputs": [],
   "source": [
    "y = \"Antananarivo\"\n",
    "print(y)\n",
    "print(x)"
   ]
  },
  {
   "cell_type": "markdown",
   "id": "3c0185ab-f550-4797-90c4-f0e45d5c3183",
   "metadata": {},
   "source": [
    "A variable can be deleted with the instruction `del`:"
   ]
  },
  {
   "cell_type": "code",
   "execution_count": null,
   "id": "c5637d64-371c-4666-be63-c1a4a8918294",
   "metadata": {},
   "outputs": [],
   "source": [
    "del y \n",
    "y"
   ]
  },
  {
   "cell_type": "markdown",
   "id": "def42fa5-3b21-4427-bad9-83a92081e660",
   "metadata": {},
   "source": [
    "Variables can be incremented with the special operators `+=` and `*=` :"
   ]
  },
  {
   "cell_type": "code",
   "execution_count": null,
   "id": "8e98853e-971c-4900-9eda-dfe4fea9106c",
   "metadata": {},
   "outputs": [],
   "source": [
    "x = 0\n",
    "x += 1\n",
    "print(x)\n",
    "x += 1\n",
    "print(x)"
   ]
  },
  {
   "cell_type": "code",
   "execution_count": null,
   "id": "4af18092-72a1-4446-ac1a-59650385b1cd",
   "metadata": {},
   "outputs": [],
   "source": [
    "y = 1\n",
    "y *= 3\n",
    "print(y)\n",
    "y *= 3\n",
    "print(y)"
   ]
  },
  {
   "cell_type": "markdown",
   "id": "6e166dd9-75f1-49e5-94f1-1b3a3edddc53",
   "metadata": {},
   "source": [
    "### 1.2.2 Variable naming conventions\n",
    "\n",
    "As in most data science and statistics softwares: \n",
    "\n",
    "- Names of variables can only be composed of alphanumeric characters and the underscore (_).\n",
    "- Variable names cannot start with a numeric character.\n",
    "- It is prohibited to include spaces in variable names.\n",
    "\n",
    "In addition, to increase readability, it is recommended to only use lower case letters and to separate words by an underscore in variable names (i.e: use  `variable_name` and not `variablename` or `Variable_Name`).\n",
    "\n",
    "\n",
    "## 1.3 Modules and packages\n",
    "\n",
    "Most of the functions that you will use in `Python` are not available by default and you will need to load a `module` to use them. Modules are usually available within `packages`. The following three packages are usually the starting point for most data science work: \n",
    "\n",
    "- [NumPy](https://numpy.org/): for scientific computing.\n",
    "- [pandas](https://pandas.pydata.org/): for data analysis and manipulation.\n",
    "- [Matplotlib](https://matplotlib.org/): to create graphics.\n",
    "\n",
    "Use the function `import` to load a `package`. Ex:\n",
    "\n"
   ]
  },
  {
   "cell_type": "code",
   "execution_count": null,
   "id": "ce7a00b1-9378-47bf-a6c5-85ba206d6b99",
   "metadata": {},
   "outputs": [],
   "source": [
    "import pandas"
   ]
  },
  {
   "cell_type": "markdown",
   "id": "44171e9e-32dc-4d43-b3fa-0f932eb564b5",
   "metadata": {},
   "source": [
    "Because different functions included in separate modules or packages can share the same name, it is good practice to give an `alias` to the packages that you load: "
   ]
  },
  {
   "cell_type": "code",
   "execution_count": null,
   "id": "27ea6d10-410c-4e99-82d8-6ec87b4505e3",
   "metadata": {},
   "outputs": [],
   "source": [
    "import numpy as np\n",
    "import statistics as st\n",
    "\n",
    "data = [1, 2, 3, 4, 5]\n",
    "\n",
    "# mean de numpy\n",
    "print(np.mean(data))\n",
    "\n",
    "# mean de statistics\n",
    "print(st.mean(data))"
   ]
  },
  {
   "cell_type": "markdown",
   "id": "b7b6a516-cd07-4312-87fc-558590813235",
   "metadata": {},
   "source": [
    "You can also import a single function from a package as in this example:"
   ]
  },
  {
   "cell_type": "code",
   "execution_count": null,
   "id": "5d5a102b-63e3-4bb2-b644-9565b9bdc044",
   "metadata": {},
   "outputs": [],
   "source": [
    "import matplotlib.pyplot as plt\n",
    "\n",
    "x = np.arange(0, 10, 0.5)\n",
    "y = np.exp(x)\n",
    "plt.plot(x,y)"
   ]
  },
  {
   "cell_type": "markdown",
   "id": "02595938-7c8d-463a-9889-d34834505045",
   "metadata": {},
   "source": [
    "## 1.4 Help and documentation\n",
    "\n",
    "Type:\n",
    "- `?` to get an overview of `Python`'s main features.\n",
    "- `help()` to access the `Python` help system.\n",
    "- `object?` to get details about `object`.\n",
    "- `object??` to get more details about `object`.\n",
    "\n",
    "\n",
    "# 2. Types of data\n",
    "\n",
    "The main types of data that you will encounter in Python include:\n",
    "\n",
    "- numerical values.\n",
    "- strings.\n",
    "- booleans.\n",
    "- empty objects.\n",
    "\n",
    "\n",
    "## 2.1 Numerical values\n",
    "\n",
    "The two types of numerical objects that we will use in this course are: \n",
    "\n",
    "- integers (`int`).\n",
    "- floating point numbers (`float`).\n",
    "\n",
    "Use the `type()` function to print the type of a `Python` object:"
   ]
  },
  {
   "cell_type": "code",
   "execution_count": null,
   "id": "83e58df9-5bab-4c78-8d0b-781ce27c660b",
   "metadata": {},
   "outputs": [],
   "source": [
    "x = 2\n",
    "y = 3.25\n",
    "\n",
    "print(type(x))\n",
    "print(type(y))"
   ]
  },
  {
   "cell_type": "markdown",
   "id": "f15ae45b-cba9-4e3f-9aea-98a24e033804",
   "metadata": {},
   "source": [
    "You can use the `float` and `int` functions to convert objects from one type to the other (caution: `int` conversion truncates decimals):"
   ]
  },
  {
   "cell_type": "code",
   "execution_count": null,
   "id": "a358b369-6ff0-4da6-beb4-72ee5fd7f1fc",
   "metadata": {},
   "outputs": [],
   "source": [
    "print(float(x))\n",
    "print(int(y))"
   ]
  },
  {
   "cell_type": "markdown",
   "id": "94a68165-9d25-4202-8551-da965cf882c4",
   "metadata": {},
   "source": [
    "**Arithmetic operations:**"
   ]
  },
  {
   "cell_type": "code",
   "execution_count": null,
   "id": "2e171c25-ee5b-46e3-a7c9-f01f5c0bb2d3",
   "metadata": {},
   "outputs": [],
   "source": [
    "#Addition\n",
    "1 + 1"
   ]
  },
  {
   "cell_type": "code",
   "execution_count": null,
   "id": "f823736c-7792-471f-9c23-5a0db90c319b",
   "metadata": {},
   "outputs": [],
   "source": [
    "#Subtraction\n",
    "1-1"
   ]
  },
  {
   "cell_type": "code",
   "execution_count": null,
   "id": "a656f3a4-a2e7-4863-a462-60f3ede844cf",
   "metadata": {},
   "outputs": [],
   "source": [
    "#Multiplication\n",
    "2 * 2"
   ]
  },
  {
   "cell_type": "code",
   "execution_count": null,
   "id": "1f29a4fb-9d9d-40bd-928b-6df6cc0d6da5",
   "metadata": {},
   "outputs": [],
   "source": [
    "#Division\n",
    "4 / 2"
   ]
  },
  {
   "cell_type": "code",
   "execution_count": null,
   "id": "f1ee52ef-4414-4e23-8d39-fe4bf104f63a",
   "metadata": {},
   "outputs": [],
   "source": [
    "#Power\n",
    "2 ** 2"
   ]
  },
  {
   "cell_type": "code",
   "execution_count": null,
   "id": "ba5029fc-8ade-41cc-adcf-32ce722a632f",
   "metadata": {},
   "outputs": [],
   "source": [
    "#Square root\n",
    "4 ** 0.5"
   ]
  },
  {
   "cell_type": "markdown",
   "id": "814f4f69-6d41-468c-99d0-05eaf3f2ce33",
   "metadata": {},
   "source": [
    "## 2.2 Strings\n",
    "\n",
    "A string is a collection of [Unicode](https://en.wikipedia.org/wiki/Unicode) characters such as letters, numbers, punctuation marks, etc.\n",
    "\n",
    "Strings are defined with single or double quotation marks:"
   ]
  },
  {
   "cell_type": "code",
   "execution_count": null,
   "id": "ab3b3e48-636d-417f-9337-2884a8b41295",
   "metadata": {},
   "outputs": [],
   "source": [
    "x = \"Madagascar\"\n",
    "print(x)\n",
    "print(type(x))"
   ]
  },
  {
   "cell_type": "code",
   "execution_count": null,
   "id": "09c61d5e-0465-4011-90c8-a21fa79c1ce5",
   "metadata": {},
   "outputs": [],
   "source": [
    "#This also works:\n",
    "y = 'it works'\n",
    "\n",
    "#This doesn't work:\n",
    "z = 'I'm a genius'\n",
    "\n",
    "print(y)\n",
    "print(z)"
   ]
  },
  {
   "cell_type": "markdown",
   "id": "73f52556-d887-474f-a907-a5be54148341",
   "metadata": {},
   "source": [
    "Use the `len` function to count the number of characters in a string:"
   ]
  },
  {
   "cell_type": "code",
   "execution_count": null,
   "id": "01696069-6dd3-4391-934d-6ee786215e03",
   "metadata": {},
   "outputs": [],
   "source": [
    "len(x)"
   ]
  },
  {
   "cell_type": "markdown",
   "id": "26793c63-b569-439e-bc7a-d2441e58c7da",
   "metadata": {},
   "source": [
    "Strings can be concatenated..."
   ]
  },
  {
   "cell_type": "code",
   "execution_count": null,
   "id": "4b0621b9-4851-4714-9ff9-cc54a801ebde",
   "metadata": {},
   "outputs": [],
   "source": [
    "\"This is\" + \" \" + \"fun\""
   ]
  },
  {
   "cell_type": "markdown",
   "id": "50a34c46-4598-4220-b4eb-0b008432b011",
   "metadata": {},
   "source": [
    "... and repeated:"
   ]
  },
  {
   "cell_type": "code",
   "execution_count": null,
   "id": "042ca7a1-0ba1-4714-a754-4c882c528d6a",
   "metadata": {},
   "outputs": [],
   "source": [
    "\"fun \" * 3 + \"... !\""
   ]
  },
  {
   "cell_type": "markdown",
   "id": "9688dc76-7074-4931-9ac8-6c02da54595c",
   "metadata": {},
   "source": [
    "Each character in a string has an index corresponding to its order in the string sequence. We can use the index to extract specific characters from a string. **Important: indexing starts at 0 in Python**"
   ]
  },
  {
   "cell_type": "code",
   "execution_count": null,
   "id": "78797935-31cb-49d9-9c88-7b1e79fc8864",
   "metadata": {},
   "outputs": [],
   "source": [
    "#Extract 1st element of the sequence\n",
    "\"This is still fun !\"[0]"
   ]
  },
  {
   "cell_type": "code",
   "execution_count": null,
   "id": "9f5125c3-368a-4373-95b0-8a24e0b9586e",
   "metadata": {},
   "outputs": [],
   "source": [
    "#Extract 2nd element of the sequence\n",
    "\"This is still fun !\"[1]"
   ]
  },
  {
   "cell_type": "code",
   "execution_count": null,
   "id": "ec3aa12f-2fc2-4283-bf3a-75cdadb3f6bd",
   "metadata": {},
   "outputs": [],
   "source": [
    "#Extract last element of the sequence\n",
    "\"This is still fun !\"[-1]"
   ]
  },
  {
   "cell_type": "code",
   "execution_count": null,
   "id": "e44d649d-7aac-4821-ab61-35d4d13b6b11",
   "metadata": {},
   "outputs": [],
   "source": [
    "#Extract everything from a certain character\n",
    "\"This is still fun !\"[8:]"
   ]
  },
  {
   "cell_type": "code",
   "execution_count": null,
   "id": "38bc51d8-f848-49d1-a46d-265619dcdc3c",
   "metadata": {},
   "outputs": [],
   "source": [
    "#Extract everything up to a certain character\n",
    "\"This is still fun !\"[:7]"
   ]
  },
  {
   "cell_type": "code",
   "execution_count": null,
   "id": "ad7569b8-cee8-4e67-aca3-8456320fe675",
   "metadata": {},
   "outputs": [],
   "source": [
    "#Extract a substring\n",
    "\"This is still fun !\"[14:17]"
   ]
  },
  {
   "cell_type": "code",
   "execution_count": null,
   "id": "831601d0-d748-4b14-be92-15ea7b88eb9b",
   "metadata": {},
   "outputs": [],
   "source": [
    "#Extract every other element of the sequence\n",
    "\"This is still fun !\"[0::2]"
   ]
  },
  {
   "cell_type": "code",
   "execution_count": null,
   "id": "05cb9615-80ca-44e9-9a7b-e3124c75e5c5",
   "metadata": {},
   "outputs": [],
   "source": [
    "#Extract every three element of the sequence starting from the second and finishing at the 17th\n",
    "\"This is still fun !\"[1:17:2]"
   ]
  },
  {
   "cell_type": "code",
   "execution_count": null,
   "id": "e6b12986-2d7f-4461-9c28-6b56faa39510",
   "metadata": {},
   "outputs": [],
   "source": [
    "#Reverse a sequence\n",
    "\"This is still fun !\"[::-1]"
   ]
  },
  {
   "cell_type": "markdown",
   "id": "edeb7245-dd05-49db-9271-d8bb9c919c38",
   "metadata": {},
   "source": [
    "The general syntax is `x[a:b:c]` where `a` is the position of the starting character, `b` the position of the ending character, and `c` the indexing step (remember: **indexing starts at 0**)."
   ]
  },
  {
   "cell_type": "markdown",
   "id": "ed57af49-ce09-4416-a343-d65143902e47",
   "metadata": {},
   "source": [
    "## 2.3 Booleans\n",
    "\n",
    "`Booleans` are logical data which take either the value `True` or `False`. Caution: case is important for the data to be recognized as boolean."
   ]
  },
  {
   "cell_type": "code",
   "execution_count": null,
   "id": "7305ea19-ceec-4b98-b6e8-4386d1af5f1b",
   "metadata": {},
   "outputs": [],
   "source": [
    "x = True\n",
    "y = False\n",
    "print(x, y)"
   ]
  },
  {
   "cell_type": "markdown",
   "id": "d97377b3-2eef-4606-9d03-06e3caa2712c",
   "metadata": {},
   "source": [
    "`Python` will automatically convert `boolean` data to 1 (for `True`) and 0 (for `False`):"
   ]
  },
  {
   "cell_type": "code",
   "execution_count": null,
   "id": "1a0f685f-7ccd-4219-a2eb-8ef72444cdc5",
   "metadata": {},
   "outputs": [],
   "source": [
    "boo = True + False + True + False + True\n",
    "print(boo)"
   ]
  },
  {
   "cell_type": "markdown",
   "id": "c0db19ad-e3e5-4ed6-bdae-2bff51cd5e2f",
   "metadata": {},
   "source": [
    "## 2.4 Empty objects\n",
    "\n",
    "Empty objects take the value `None` and have the class `NoneType`:"
   ]
  },
  {
   "cell_type": "code",
   "execution_count": null,
   "id": "af6a414b-d8bb-4069-b463-7bfe1d1704fd",
   "metadata": {},
   "outputs": [],
   "source": [
    "x = None\n",
    "print(type(x))"
   ]
  },
  {
   "cell_type": "markdown",
   "id": "75b45cad-6129-4c50-99b0-2dc387c4fb9e",
   "metadata": {},
   "source": [
    "One can test if an object is empty with the following approach:"
   ]
  },
  {
   "cell_type": "code",
   "execution_count": null,
   "id": "9fab0970-f8eb-40b8-a209-db0630e42b7e",
   "metadata": {},
   "outputs": [],
   "source": [
    "print(x is None)"
   ]
  },
  {
   "cell_type": "markdown",
   "id": "979c685a-9f6a-49a7-b4b5-4863f0401e5e",
   "metadata": {},
   "source": [
    "## 2.5 Exercises\n",
    "\n",
    "### Displaying basic types\n",
    "\n",
    "Display the type of x when:\n",
    "\n",
    "-   x = 3\n",
    "-   x = “test”\n",
    "-   x = 3.5"
   ]
  },
  {
   "cell_type": "code",
   "execution_count": 2,
   "id": "687c9faf-b79a-4224-aee3-0c79010992aa",
   "metadata": {},
   "outputs": [
    {
     "name": "stdout",
     "output_type": "stream",
     "text": [
      "The type of x is <class 'int'>\n",
      "The type of x is <class 'str'>\n",
      "The type of x is <class 'float'>\n"
     ]
    }
   ],
   "source": [
    "x = 3\n",
    "print(\"The type of x is\", type(x))\n",
    "\n",
    "x = \"test\"\n",
    "print(\"The type of x is\", type(x))\n",
    "\n",
    "x = 3.5\n",
    "print(\"The type of x is\", type(x))"
   ]
  },
  {
   "cell_type": "markdown",
   "id": "09a0dc52-7a49-446d-8950-5d294905b969",
   "metadata": {},
   "source": [
    "### String lengths\n",
    "\n",
    "Calculate the sum of the lengths of the following three strings:\n",
    "\n",
    "-   “a first string”\n",
    "-   “and a second”\n",
    "-   “never two without three”"
   ]
  },
  {
   "cell_type": "code",
   "execution_count": 8,
   "id": "f5259e92-e773-4d95-9b5f-892e12d4ddf4",
   "metadata": {},
   "outputs": [
    {
     "name": "stdout",
     "output_type": "stream",
     "text": [
      "The sum of the lengths of the three strings is: 45 .\n"
     ]
    }
   ],
   "source": [
    "sumlen = len(\"a first string\") + len(\"and a second\") + len(\"never without three\")\n",
    "print(\"The sum of the lengths of the three strings is:\", sumlen, \".\")"
   ]
  },
  {
   "cell_type": "markdown",
   "id": "9be11910-a9a8-4b01-b2c2-58c71d5eb3ee",
   "metadata": {},
   "source": [
    "### Counting letters\n",
    "\n",
    "Count the number of times the letter e appears in the following string:\n",
    "“I am counting the e’s.”\n",
    "\n",
    "**Hint**: you can use the built-in method\n",
    "[count](https://docs.python.org/3/library/stdtypes.html#str.count)."
   ]
  },
  {
   "cell_type": "code",
   "execution_count": 12,
   "id": "e7001e3b-357f-4a13-92c6-6b58c97da7f1",
   "metadata": {},
   "outputs": [
    {
     "data": {
      "text/plain": [
       "2"
      ]
     },
     "execution_count": 12,
     "metadata": {},
     "output_type": "execute_result"
    }
   ],
   "source": [
    "mystring = \"I am counting the e’s.\"\n",
    "mystring.count(\"e\")"
   ]
  },
  {
   "cell_type": "markdown",
   "id": "cc9ce28a-8b4b-4a6e-8d8a-a7bc265d330f",
   "metadata": {},
   "source": [
    "### Detecting letters\n",
    "\n",
    "Find the first position where the letter e appears in the following\n",
    "string: “I am counting the e’s.”\n",
    "\n",
    "**Hint**: you can use the built-in method\n",
    "[find](https://docs.python.org/3/library/stdtypes.html#str.find)."
   ]
  },
  {
   "cell_type": "code",
   "execution_count": 13,
   "id": "5de07307-e62d-49e6-b561-cde3c795f556",
   "metadata": {},
   "outputs": [
    {
     "data": {
      "text/plain": [
       "16"
      ]
     },
     "execution_count": 13,
     "metadata": {},
     "output_type": "execute_result"
    }
   ],
   "source": [
    "mystring.find(\"e\")"
   ]
  },
  {
   "cell_type": "markdown",
   "id": "a51bef41-bf57-4b3e-bf6d-2dfbea27c5f6",
   "metadata": {},
   "source": [
    "### Removing spaces in a string\n",
    "\n",
    "Remove the extra spaces at the beginning and end of the following\n",
    "string:\n",
    "\n",
    "**Hint**: you can use the built-in method\n",
    "[strip](https://docs.python.org/3/library/stdtypes.html#str.strip)."
   ]
  },
  {
   "cell_type": "code",
   "execution_count": 14,
   "id": "35169024-e04c-4ab4-bccc-e790bfa29017",
   "metadata": {},
   "outputs": [],
   "source": [
    "# Type your answer in this cell\n",
    "a = \"    A poorly formatted string.         \"\n"
   ]
  },
  {
   "cell_type": "code",
   "execution_count": 22,
   "id": "780a623d-ba7b-46e6-9513-c74950e84ce5",
   "metadata": {},
   "outputs": [
    {
     "name": "stdout",
     "output_type": "stream",
     "text": [
      "A poorly formatted string.\n",
      " poorly formatted string.\n"
     ]
    }
   ],
   "source": [
    "mystring = a.strip()\n",
    "print(mystring)\n",
    "print(mystring.strip('A'))"
   ]
  },
  {
   "cell_type": "markdown",
   "id": "40707b29-c65b-4b62-accc-b7d112dd0838",
   "metadata": {},
   "source": [
    "### Escaping characters\n",
    "\n",
    "The `\\` character allows escaping (neutralizing) a special character\n",
    "within a string. Find how this character solves the problem of using\n",
    "quotes (or apostrophes) within a string defined by quotes (apostrophes).\n",
    "\n",
    "**Hint**: examples of usage are available in the [official\n",
    "documentation](https://docs.python.org/3/reference/lexical_analysis.html#literals)."
   ]
  },
  {
   "cell_type": "code",
   "execution_count": 26,
   "id": "f14bd621-1ae2-4ef9-95f3-20f38f13bded",
   "metadata": {},
   "outputs": [
    {
     "data": {
      "text/plain": [
       "\"I'm such a genius\""
      ]
     },
     "execution_count": 26,
     "metadata": {},
     "output_type": "execute_result"
    }
   ],
   "source": [
    "'I\\'m such a genius'"
   ]
  },
  {
   "cell_type": "markdown",
   "id": "940cb7fc-6da7-4881-b005-728f7bbd603b",
   "metadata": {},
   "source": [
    "### A first algorithm\n",
    "\n",
    "Perform the following sequence of operations using increment operators,\n",
    "and print the final value:\n",
    "\n",
    "-   initialize a variable to 1\n",
    "-   subtract 5 from it\n",
    "-   multiply it by 4\n",
    "-   add 22 to it"
   ]
  },
  {
   "cell_type": "code",
   "execution_count": 28,
   "id": "2f07fc1a-fd08-4ed6-85cc-64361558e93b",
   "metadata": {},
   "outputs": [
    {
     "data": {
      "text/plain": [
       "6"
      ]
     },
     "execution_count": 28,
     "metadata": {},
     "output_type": "execute_result"
    }
   ],
   "source": [
    "a = 1\n",
    "a -= 5\n",
    "a *= 4\n",
    "a += 22\n",
    "a"
   ]
  },
  {
   "cell_type": "markdown",
   "id": "b29630b5-8993-4176-aa47-8017f9025327",
   "metadata": {},
   "source": [
    "# 3. Structures \n",
    "\n",
    "The main types of structures in `Python` are:\n",
    "\n",
    "- lists,\n",
    "- tuples,\n",
    "- sets,\n",
    "- and dictionaries.\n",
    "\n",
    "Data structures can be seen as containers because they allow you to store, organize, and access data. \n",
    "\n",
    "Lists and tuples are **sequential containers**: the elements they contain are **ordered**, and their position is recorded in an **index**.\n",
    "\n",
    "Dictionaries and sets are **unordered data structures**: objects are no longer stored by position (or index) but by **key**, which is a unique identifier.\n",
    "\n",
    "## 3.1 Lists\n",
    "\n",
    "`Lists` are one of the most flexible structures in Python. A `list` is a grouping of values.\n",
    "The creation of a list is done by writing the values by separating them with a comma\n",
    "and surrounding them by square brackets ([ and ]). You can store both numerical values and strings in lists.\n",
    "\n",
    "Ask python to join together the numbers 3, 4, and 5, and to save them as a list named `x`. Then, display the content of `x`:"
   ]
  },
  {
   "cell_type": "code",
   "execution_count": 1,
   "id": "a895985d-6a02-42b0-af2d-32478923a74b",
   "metadata": {},
   "outputs": [
    {
     "data": {
      "text/plain": [
       "[3, 4, 5]"
      ]
     },
     "execution_count": 1,
     "metadata": {},
     "output_type": "execute_result"
    }
   ],
   "source": [
    "x = [3, 4, 5]\n",
    "x"
   ]
  },
  {
   "cell_type": "markdown",
   "id": "8b5a4eab-d763-400b-9d4b-d94ef1ba92c3",
   "metadata": {},
   "source": [
    "Copying a list: Be **careful**, copying a list in Python is achieved by using the `list()` function not by using the equal sign:"
   ]
  },
  {
   "cell_type": "code",
   "execution_count": null,
   "id": "8b60ae85-e40a-4d0f-8cb8-49053b48b4f8",
   "metadata": {},
   "outputs": [],
   "source": [
    "y=x\n",
    "y[0] = 0\n",
    "print(y)\n",
    "print(x)"
   ]
  },
  {
   "cell_type": "code",
   "execution_count": null,
   "id": "82f0225b-ae39-4b79-8a99-9ec960d54eab",
   "metadata": {},
   "outputs": [],
   "source": [
    "x = [3, 4, 5]\n",
    "y = list(x)\n",
    "y[0] = 0\n",
    "print(\"x : \", x)\n",
    "print(\"y : \", y)"
   ]
  },
  {
   "cell_type": "markdown",
   "id": "fb8610a1-8591-45bd-b84d-ccae3bae6f73",
   "metadata": {},
   "source": [
    "## 3.2 Tuples\n",
    "\n",
    "`Tuples` are sequences of Python objects. To create a tuple, one lists the values, separated by commas. Unlike lists, **tuples are inalterable** (i.e. cannot be modified after they have been created)."
   ]
  },
  {
   "cell_type": "code",
   "execution_count": null,
   "id": "6a31ebef-8640-4e9a-9603-a2585b91afa9",
   "metadata": {},
   "outputs": [],
   "source": [
    "x = 1, 4, 9, 16, 25\n",
    "print(x)"
   ]
  },
  {
   "cell_type": "code",
   "execution_count": null,
   "id": "9b34efad-b3a0-458f-a89c-9a0992709902",
   "metadata": {
    "scrolled": true
   },
   "outputs": [],
   "source": [
    "x[0] = 1"
   ]
  },
  {
   "cell_type": "markdown",
   "id": "e06401de-9306-47c8-9063-ccb7c9e4f657",
   "metadata": {},
   "source": [
    "## 3.3 Sets\n",
    "\n",
    "`Sets` are unordered collections of unique elements. Sets are unalterable. Unlike tuples, sets are not\n",
    "indexed:"
   ]
  },
  {
   "cell_type": "code",
   "execution_count": null,
   "id": "de499eb3-7a59-4acb-acf2-8064e11334f7",
   "metadata": {},
   "outputs": [],
   "source": [
    "new_set = {\"Bordeaux\", \"Aix-en-Provence\", \"Nice\", \"Rennes\"}\n",
    "print(new_set)"
   ]
  },
  {
   "cell_type": "markdown",
   "id": "7035909d-1c97-44fe-96a6-c1bab78872cf",
   "metadata": {},
   "source": [
    "Sets are not very often used in practice, but they are quite useful in\n",
    "certain specific situations. Due to the uniqueness of the elements they\n",
    "contain, sets allow you to simply and effectively remove duplicates from\n",
    "a sequential container, such as a list.\n",
    "\n",
    "**Deduplication**\n",
    "\n",
    "Suppose you want to remove duplicates from a given list. By definition,\n",
    "converting a list to a set removes duplicates. However, you generally\n",
    "want to return to a list, as sets do not offer the same flexibility as\n",
    "lists (for example, the ability to find an element by position). It is\n",
    "therefore common to perform the `list -> set -> list` chain of\n",
    "operations to deduplicate a list."
   ]
  },
  {
   "cell_type": "code",
   "execution_count": null,
   "id": "6fde99a2-b8d8-4f2e-a764-8370e7e7e5e3",
   "metadata": {},
   "outputs": [],
   "source": [
    "l = [1, 2, 3, 3, 2, 1]\n",
    "l_dedup = list(set(l))\n",
    "l_dedup"
   ]
  },
  {
   "cell_type": "markdown",
   "id": "bf264670-3690-426a-8d11-dc6cdf120025",
   "metadata": {},
   "source": [
    "**Set Operations**\n",
    "\n",
    "Since sets programmatically represent mathematical sets, it is not\n",
    "surprising that they allow for elementary set operations. For example,\n",
    "union and intersection."
   ]
  },
  {
   "cell_type": "code",
   "execution_count": null,
   "id": "809b413b-a527-4652-81c4-79a3e84e20d4",
   "metadata": {},
   "outputs": [],
   "source": [
    "l1 = [5, 3, 2, 3, 3, 5, 8, 9]\n",
    "l2 = [3, 7, 0, 0, 1, 9, 4, 6]\n",
    "\n",
    "# Union: elements in l1, l2, or both\n",
    "l_union = list(set(l1) | set(l2))\n",
    "print(l_union)\n",
    "\n",
    "# Intersection: elements in both l1 and l2\n",
    "l_inter = list(set(l1) & set(l2))\n",
    "print(l_inter)"
   ]
  },
  {
   "cell_type": "markdown",
   "id": "633e5561-e2ef-4bf4-9793-bc1400d0e289",
   "metadata": {},
   "source": [
    "**Membership Tests**\n",
    "\n",
    "Sets are also very useful for membership tests, as they offer much\n",
    "better performance than lists for this type of test.\n",
    "\n",
    "The concept of testing will be covered in a future tutorial. For now,\n",
    "let’s note that a membership test such as “is element `a` in list `l`”\n",
    "is written in Python as `a in l` and returns `True` or `False` depending\n",
    "on whether `a` is actually present in list `l`."
   ]
  },
  {
   "cell_type": "code",
   "execution_count": null,
   "id": "1506faaa-6f38-4d59-b98c-c4c1f4a6405b",
   "metadata": {},
   "outputs": [],
   "source": [
    "l = [1, 2, 3]\n",
    "2 in l"
   ]
  },
  {
   "cell_type": "code",
   "execution_count": null,
   "id": "156925ef-f228-4883-8c09-9acd9c177b33",
   "metadata": {},
   "outputs": [],
   "source": [
    "4 in l"
   ]
  },
  {
   "cell_type": "code",
   "execution_count": null,
   "id": "0d59734e-826e-46e4-a62e-a8607eb2183e",
   "metadata": {},
   "outputs": [],
   "source": []
  },
  {
   "cell_type": "markdown",
   "id": "5fef5ffb-2005-495e-b5e5-834886d86921",
   "metadata": {},
   "source": [
    "## 3.4 Dictionaries\n",
    "\n",
    "Python `dictionaries` are an implementation of `key-value objects`, the keys being\n",
    "indexed. Keys are often text, values can be of different types and structures. To create a dictionary, you can proceed by using braces ({}):"
   ]
  },
  {
   "cell_type": "code",
   "execution_count": null,
   "id": "ac8ac6b2-c7bb-43fc-8efa-c2d083c03179",
   "metadata": {},
   "outputs": [],
   "source": [
    "my_dict = { \"nom\": \"Kyrie\",\n",
    "\"prenom\": \"John\",\n",
    "\"naissance\": 1992,\n",
    "\"equipes\": [\"Cleveland\", \"Boston\"]}\n",
    "print(my_dict)"
   ]
  },
  {
   "cell_type": "code",
   "execution_count": null,
   "id": "f01b917c-2769-4bcf-b83e-f08fc94be03e",
   "metadata": {},
   "outputs": [],
   "source": [
    "print(my_dict[\"equipes\"])"
   ]
  },
  {
   "cell_type": "code",
   "execution_count": null,
   "id": "f732373e-b713-41f7-a380-486729271795",
   "metadata": {},
   "outputs": [],
   "source": [
    "my_dict[\"equipes\"] = [\"Montclair Kimberley Academy\",\n",
    "\"Cleveland Cavaliers\", \"Boston Celtics\"]\n",
    "print(my_dict)"
   ]
  },
  {
   "cell_type": "markdown",
   "id": "9875744f-681a-4b79-a1c0-3cea32089c2f",
   "metadata": {},
   "source": [
    "The `.keys()`, `.values()`, and `.items()` methods return the keys,\n",
    "values, and key-value pairs of a dictionary, respectively. The objects\n",
    "returned by these methods are a bit complex, but they can be converted\n",
    "to lists using the `list` function to query them by position:"
   ]
  },
  {
   "cell_type": "code",
   "execution_count": null,
   "id": "ffec39e0-368c-4448-a374-a2eb857a57c0",
   "metadata": {},
   "outputs": [],
   "source": [
    "list(my_dict.keys())"
   ]
  },
  {
   "cell_type": "code",
   "execution_count": null,
   "id": "9e5f9387-b838-4628-ba4e-7d59342972ad",
   "metadata": {},
   "outputs": [],
   "source": [
    "list(my_dict.values())"
   ]
  },
  {
   "cell_type": "code",
   "execution_count": null,
   "id": "08a76b5a-7267-497c-b884-d3450739b5eb",
   "metadata": {},
   "outputs": [],
   "source": [
    "list(my_dict.items())"
   ]
  },
  {
   "cell_type": "markdown",
   "id": "3f5077d2-e4a7-4f4a-aff6-30f2f89b65d7",
   "metadata": {},
   "source": [
    "## 3.5 Exercises\n",
    "\n",
    "### Doing Scales\n",
    "\n",
    "By adding, deleting, and modifying elements, clean up the following list\n",
    "so that it contains the musical notes “do re mi fa sol la si” in the\n",
    "correct order.\n",
    "\n",
    "`l = [\"do\", \"re\", \"re\", \"re\", \"fa\", \"sol\", \"solsi\", \"la\"]`\n",
    "\n",
    "Hint: use the list's `index`, the `del` function and the [append](https://mimo.org/glossary/python/append()) function."
   ]
  },
  {
   "cell_type": "code",
   "execution_count": 2,
   "id": "9f2cdb20-94c9-44e2-b156-0accb029a18d",
   "metadata": {},
   "outputs": [
    {
     "name": "stdout",
     "output_type": "stream",
     "text": [
      "['do', 're', 'mi', 'fa', 'sol', 'la', 'si']\n"
     ]
    }
   ],
   "source": [
    "l = [\"do\", \"re\", \"re\", \"re\", \"fa\", \"sol\", \"solsi\", \"la\"]\n",
    "l[2] = \"mi\"\n",
    "del(l[3::3]) #Using the slicer method\n",
    "l.append(\"si\")\n",
    "print(l)"
   ]
  },
  {
   "cell_type": "markdown",
   "id": "6a6378f9-1a5d-4197-bb2a-65a12295fff9",
   "metadata": {},
   "source": [
    "### Min and Max of Different Lists\n",
    "\n",
    "Verify the behavior of the `min` and `max` functions:\n",
    "\n",
    "-   on a list composed solely of numeric objects (`int` and `float`);\n",
    "-   on a list composed solely of strings;\n",
    "-   on a list composed of a mix of numeric and textual objects."
   ]
  },
  {
   "cell_type": "code",
   "execution_count": 3,
   "id": "20897108-e212-482b-8f64-8d22987a5b2a",
   "metadata": {},
   "outputs": [
    {
     "name": "stdout",
     "output_type": "stream",
     "text": [
      "2\n",
      "65\n",
      "Barry\n",
      "Zorah\n"
     ]
    },
    {
     "ename": "TypeError",
     "evalue": "'<' not supported between instances of 'str' and 'int'",
     "output_type": "error",
     "traceback": [
      "\u001b[31m---------------------------------------------------------------------------\u001b[39m",
      "\u001b[31mTypeError\u001b[39m                                 Traceback (most recent call last)",
      "\u001b[36mCell\u001b[39m\u001b[36m \u001b[39m\u001b[32mIn[3]\u001b[39m\u001b[32m, line 10\u001b[39m\n\u001b[32m      7\u001b[39m \u001b[38;5;28mprint\u001b[39m(\u001b[38;5;28mmax\u001b[39m(strl))\n\u001b[32m      9\u001b[39m mixl = [\u001b[32m1\u001b[39m, \u001b[33m\"\u001b[39m\u001b[33mmix\u001b[39m\u001b[33m\"\u001b[39m, \u001b[33m\"\u001b[39m\u001b[33mof\u001b[39m\u001b[33m\"\u001b[39m, \u001b[32m2\u001b[39m]\n\u001b[32m---> \u001b[39m\u001b[32m10\u001b[39m \u001b[38;5;28mprint\u001b[39m(\u001b[38;5;28;43mmin\u001b[39;49m\u001b[43m(\u001b[49m\u001b[43mmixl\u001b[49m\u001b[43m)\u001b[49m)\n\u001b[32m     11\u001b[39m \u001b[38;5;28mprint\u001b[39m(\u001b[38;5;28mmax\u001b[39m(mixl))\n",
      "\u001b[31mTypeError\u001b[39m: '<' not supported between instances of 'str' and 'int'"
     ]
    }
   ],
   "source": [
    "numl = [5, 2, 21, 6.5, 65]\n",
    "print(min(numl))\n",
    "print(max(numl))\n",
    "\n",
    "strl = [\"Bob\", \"Lea\", \"Zorah\", \"Jo\", \"Barry\"]\n",
    "print(min(strl))\n",
    "print(max(strl))\n",
    "\n",
    "mixl = [1, \"mix\", \"of\", 2]\n",
    "print(min(mixl))\n",
    "print(max(mixl))"
   ]
  },
  {
   "cell_type": "markdown",
   "id": "b3bc1836-0e4f-4581-8d78-ccb24ef124dc",
   "metadata": {},
   "source": [
    "### Empty List\n",
    "\n",
    "Try creating an empty list. Verify its type. What could be the use of\n",
    "such an object?"
   ]
  },
  {
   "cell_type": "code",
   "execution_count": 4,
   "id": "7e7dbc59-aba9-4c13-a898-45b33c078259",
   "metadata": {},
   "outputs": [
    {
     "name": "stdout",
     "output_type": "stream",
     "text": [
      "[]\n",
      "<class 'list'>\n",
      "[0, 1, 4, 9, 16, 25, 36, 49, 64, 81, 100]\n"
     ]
    }
   ],
   "source": [
    "l = []\n",
    "print(l)\n",
    "print(type(l))\n",
    "\n",
    "for i in range(11):\n",
    "    x = i**2\n",
    "    l.append(x)\n",
    "\n",
    "print(l)"
   ]
  },
  {
   "cell_type": "markdown",
   "id": "83e58513-3117-48dd-b849-b013fe25f404",
   "metadata": {},
   "source": [
    "### The `list` and `tuple` functions\n",
    "\n",
    "The `list` and `tuple` functions allow\n",
    "converting from one type to the other: the code `list(my_object)` returns the\n",
    "“list version” of that object.\n",
    "\n",
    "- Create the tuple `a = (1, 2, 3)` and convert it to a list using the `list` function.\n",
    "\n",
    "- Then, create the string `b = \"hello\"` and convert it to a list using the `list` function.\n"
   ]
  },
  {
   "cell_type": "code",
   "execution_count": 5,
   "id": "48c9c73c-0dd4-44cb-b6b1-7bb22ec77ecd",
   "metadata": {},
   "outputs": [
    {
     "name": "stdout",
     "output_type": "stream",
     "text": [
      "[1, 2, 3]\n",
      "['h', 'e', 'l', 'l', 'o']\n"
     ]
    }
   ],
   "source": [
    "a = (1, 2, 3) \n",
    "a = list(a)\n",
    "print(a)\n",
    "\n",
    "b = \"hello\"\n",
    "b = list(b)\n",
    "print(b)"
   ]
  },
  {
   "cell_type": "markdown",
   "id": "86d885b4-5b14-4242-b0d7-c5b5a99f2791",
   "metadata": {},
   "source": [
    "### Querying a Dictionary\n",
    "\n",
    "Given the dictionary defined in the cell below.\n",
    "\n",
    "Display using `print` operations:\n",
    "\n",
    "-   the list of class names\n",
    "-   Miranda’s history grade\n",
    "-   the list of grades obtained by Hypolyte\n",
    "-   the list of student names in 6emeB\n",
    "-   the list of subjects taught in 6emeA\n",
    "-   the list of all subjects taught\n",
    "-   the list of grades obtained by girls in both classes"
   ]
  },
  {
   "cell_type": "code",
   "execution_count": 33,
   "id": "320201f4-7b42-427e-9506-c28c006f2fe8",
   "metadata": {},
   "outputs": [],
   "source": [
    "results = {\n",
    "    \"6emeA\": {\"Miranda\" : {\"grades\": {\"physics\": 16, \"history\": 12}},\n",
    "              \"Celestin\": {\"grades\": {\"physics\": \"absent\", \"history\": 18}}\n",
    "             },\n",
    "    \"6emeB\": {\"Hypolyte\": {\"grades\": {\"math\": 11, \"english\": 0}},\n",
    "              \"Josephine\": {\"grades\": {\"math\": 16, \"english\": 20}}\n",
    "             }\n",
    "}"
   ]
  },
  {
   "cell_type": "code",
   "execution_count": 51,
   "id": "08ee24db-736e-4233-b5b6-7c1a655445fd",
   "metadata": {},
   "outputs": [
    {
     "name": "stdout",
     "output_type": "stream",
     "text": [
      "['6emeA', '6emeB']\n",
      "12\n",
      "[11, 0]\n",
      "['Hypolyte', 'Josephine']\n",
      "['physics', 'history']\n",
      "['physics', 'history', 'math', 'english']\n",
      "[16, 12, 16, 20]\n"
     ]
    }
   ],
   "source": [
    "print(list(results.keys()))\n",
    "print(results[\"6emeA\"][\"Miranda\"][\"grades\"][\"history\"])\n",
    "print(list(results[\"6emeB\"][\"Hypolyte\"][\"grades\"].values()))\n",
    "print(list(results[\"6emeB\"].keys()))\n",
    "print(list(results[\"6emeA\"][\"Miranda\"][\"grades\"].keys()))\n",
    "print(list(results[\"6emeA\"][\"Miranda\"][\"grades\"].keys()) + list(results[\"6emeB\"][\"Hypolyte\"][\"grades\"].keys()))\n",
    "print(list(results[\"6emeA\"][\"Miranda\"][\"grades\"].values()) + list(results[\"6emeB\"][\"Josephine\"][\"grades\"].values()))"
   ]
  },
  {
   "cell_type": "markdown",
   "id": "346c5d4d-bc5e-4c8c-926d-ba605cd3a891",
   "metadata": {},
   "source": [
    "### Deduplication\n",
    "\n",
    "Given the following string with repetitions:\n",
    "\n",
    "`x = \"cdabcdabcdabcdabcdabcdabcdabcdabcdab\"`\n",
    "\n",
    "Construct a list of unique characters in this string, sorted\n",
    "alphabetically, i.e.:\n",
    "\n",
    "`l = ['a', 'b', 'c', 'd']`\n",
    "\n",
    "Hint: the procedure is similar to removing duplicates from a list."
   ]
  },
  {
   "cell_type": "code",
   "execution_count": 55,
   "id": "1d08f2d0-fcf7-4e14-8295-7818b9007ef3",
   "metadata": {},
   "outputs": [
    {
     "name": "stdout",
     "output_type": "stream",
     "text": [
      "['a', 'd', 'b', 'c']\n"
     ]
    }
   ],
   "source": [
    "x = \"cdabcdabcdabcdabcdabcdabcdabcdabcdab\"\n",
    "x = sorted(list(set(x)))\n",
    "print(x)"
   ]
  },
  {
   "cell_type": "markdown",
   "id": "f56c38b0-9553-4815-a5c9-cdff4703fe15",
   "metadata": {},
   "source": [
    "### Intersections and Unions of Strings\n",
    "\n",
    "Given the following two strings:\n",
    "\n",
    "`cyrano1 = 'C’est un roc ! … c’est un pic ! … c’est un cap !'`\n",
    "\n",
    "`cyrano2 = 'Que dis-je, c’est un cap ? … C’est une péninsule !'`\n",
    "\n",
    "Question 1: find the characters that appear in both strings.\n",
    "\n",
    "Question 2: find the characters that appear in at least one of the two\n",
    "texts."
   ]
  },
  {
   "cell_type": "code",
   "execution_count": 60,
   "id": "0438f493-942b-42a3-8802-65797a6f95b8",
   "metadata": {},
   "outputs": [
    {
     "name": "stdout",
     "output_type": "stream",
     "text": [
      "['!', 't', 'u', 'c', 'e', 'i', '’', '…', 'p', 'a', ' ', 's', 'n', 'C']\n",
      "['t', 'i', '…', 'a', 'r', 'Q', 'l', 'j', '’', 'u', 'c', 'p', 'n', 's', 'C', ',', '-', '!', 'd', 'é', 'e', 'o', '?', ' ']\n"
     ]
    }
   ],
   "source": [
    "cyrano1 = \"C’est un roc ! … c’est un pic ! … c’est un cap !\"\n",
    "cyrano2 = \"Que dis-je, c’est un cap ? … C’est une péninsule !\"\n",
    "\n",
    "i_cyrano = list(set(cyrano1) & set(cyrano2))\n",
    "print(i_cyrano)\n",
    "\n",
    "u_cyrano = list(set(cyrano1) | set(cyrano2))\n",
    "print(u_cyrano)"
   ]
  },
  {
   "cell_type": "markdown",
   "id": "a8fd58c3-cf8f-460b-89fa-d87d38387a18",
   "metadata": {},
   "source": [
    "# 4. Conditions"
   ]
  },
  {
   "cell_type": "markdown",
   "id": "65ba8171-239a-4a25-a165-afc7ba48f45f",
   "metadata": {},
   "source": [
    "Now, we will delve into the details of how conditions work in Python.\n",
    "They are a major step in creating programs that automate operations\n",
    "since they allow you to **execute or not execute code based on certain\n",
    "conditions**. They enable the computer to make decisions based on\n",
    "criteria set by the user.\n",
    "\n",
    "## 4.1 The boolean type\n",
    "\n",
    "In its simplest form, a `test` in Python is an expression that evaluates\n",
    "to a `boolean` value (see above).\n",
    "\n",
    "## 4.2 Comparison operators\n",
    "\n",
    "Comparison operators formalize mathematical comparison operations\n",
    "(equality, inequality, inequalities). They **compare two values and\n",
    "return a boolean value**.\n",
    "\n",
    "Operator \\| Meaning \\|  \n",
    "`|` \\|  \n",
    "== \\| Equal to \\|  \n",
    "!= \\| Not equal to \\|  \n",
    "\\< \\| Less than \\|  \n",
    "\\> \\| Greater than \\|  \n",
    "\\<= \\| Less than or equal to \\|  \n",
    "\\>= \\| Greater than or equal to \\|\n",
    "\n",
    "Let’s illustrate these operators with a few examples."
   ]
  },
  {
   "cell_type": "code",
   "execution_count": null,
   "id": "a52251f2-d544-44ec-a972-98381b730ebe",
   "metadata": {},
   "outputs": [],
   "source": [
    "1 == 1"
   ]
  },
  {
   "cell_type": "code",
   "execution_count": null,
   "id": "8b65ace5-4b65-4957-a171-71dd767e0d9c",
   "metadata": {},
   "outputs": [],
   "source": [
    "1 == 2"
   ]
  },
  {
   "cell_type": "code",
   "execution_count": null,
   "id": "a92270fd-6136-49ef-943e-f20d7f4d1801",
   "metadata": {},
   "outputs": [],
   "source": [
    "1 != 2"
   ]
  },
  {
   "cell_type": "markdown",
   "id": "1d953db8-2ca4-48cc-9173-b5e155f57c17",
   "metadata": {},
   "source": [
    "Everything seems to work correctly for usual mathematical operations.\n",
    "But these operators actually work on any type of object."
   ]
  },
  {
   "cell_type": "code",
   "execution_count": null,
   "id": "65ea1659-7892-4901-bcc8-30e28b8c7751",
   "metadata": {},
   "outputs": [],
   "source": [
    "'do re mi fa sol' == 'do re mi fa sol'"
   ]
  },
  {
   "cell_type": "code",
   "execution_count": null,
   "id": "117947cb-2767-4fb7-b853-b117af635608",
   "metadata": {},
   "outputs": [],
   "source": [
    "'do re mi fa sol' == 'Do Re Mi Fa Sol'"
   ]
  },
  {
   "cell_type": "code",
   "execution_count": null,
   "id": "0e10aa65-542e-464a-aa07-64feb8a26aa2",
   "metadata": {},
   "outputs": [],
   "source": [
    "[1, 2, 3] == [1, 2, 3]"
   ]
  },
  {
   "cell_type": "markdown",
   "id": "ee46ff9d-8d85-495e-bae2-d6cea0fc68b5",
   "metadata": {},
   "source": [
    "Finally, it is possible to chain comparisons. The expression returns\n",
    "`True` provided that each of the comparisons is true."
   ]
  },
  {
   "cell_type": "code",
   "execution_count": null,
   "id": "93b83fcb-37ee-4f9f-ba6d-d7e73d065278",
   "metadata": {},
   "outputs": [],
   "source": [
    "1 < 2 <= 3"
   ]
  },
  {
   "cell_type": "code",
   "execution_count": null,
   "id": "54d9249a-f5fc-4eb3-bc1f-bb2366088419",
   "metadata": {},
   "outputs": [],
   "source": [
    "4 < 5 <= 3"
   ]
  },
  {
   "cell_type": "markdown",
   "id": "8c590fa9-0d39-4916-876d-091e478433d6",
   "metadata": {},
   "source": [
    "## 4.3 Boolean operators\n",
    "\n",
    "Boolean operators allow **simultaneous testing of multiple logical\n",
    "expressions**. Fundamentally, these operators take two boolean values as\n",
    "input and return a single boolean value according to fixed logic rules.\n",
    "These rules are stated in **truth tables**.\n",
    "\n",
    "### `and` operator\n",
    "\n",
    "The first boolean operator is `and`. Let’s look at its truth table:\n",
    "\n",
    "| Expression  | Evaluation |\n",
    "|-------------|------------|\n",
    "|`True and True` | `True`|\n",
    "| `True and False` |  `False` |\n",
    "| `False and True` |  `False` |\n",
    "| `False and False` |  `False`  |\n",
    "\n",
    "Let’s verify these rules in practice with a few examples."
   ]
  },
  {
   "cell_type": "code",
   "execution_count": null,
   "id": "dd58c9f5-b646-4fc7-aedf-f22c7d719101",
   "metadata": {},
   "outputs": [],
   "source": [
    "True and True"
   ]
  },
  {
   "cell_type": "code",
   "execution_count": null,
   "id": "bd146c1b-3d5b-493e-8312-d8eb02ff8512",
   "metadata": {},
   "outputs": [],
   "source": [
    "True and False"
   ]
  },
  {
   "cell_type": "code",
   "execution_count": null,
   "id": "9df11f99-7dce-4b49-bb37-92e44a389d0d",
   "metadata": {},
   "outputs": [],
   "source": [
    "(2 > 1) and (3 <= 4)"
   ]
  },
  {
   "cell_type": "code",
   "execution_count": null,
   "id": "0c111eaa-be8c-4b43-92c9-6556efa51604",
   "metadata": {},
   "outputs": [],
   "source": [
    "a = (\"x\" != \"z\")\n",
    "b = (\"x\" == \"y\")\n",
    "a and b"
   ]
  },
  {
   "cell_type": "markdown",
   "id": "6767a4a8-32f9-4cc2-8c82-9721d5e71dbd",
   "metadata": {},
   "source": [
    "Note the use of parentheses to delimit the tests: they are not mandatory\n",
    "but are strongly recommended as they greatly improve the readability of\n",
    "tests.\n",
    "\n",
    "### `or` operator\n",
    "\n",
    "The second boolean operator is `or`. Its truth table is as follows:\n",
    "\n",
    "\n",
    "| Expression  | Evaluation |\n",
    "|-------------|------------|\n",
    "|`True or True` | `True`|\n",
    "| `True or False` |  `True` |\n",
    "| `False or True` |  `True` |\n",
    "| `False or False` |  `False`|"
   ]
  },
  {
   "cell_type": "code",
   "execution_count": null,
   "id": "ad2c144e-35d1-4770-bb6f-af6953a475d8",
   "metadata": {},
   "outputs": [],
   "source": [
    "a = (\"x\" != \"z\")\n",
    "b = (\"x\" == \"y\")\n",
    "a or b"
   ]
  },
  {
   "cell_type": "markdown",
   "id": "320a8b4e-7ac2-4206-8fd6-1c3f149cf377",
   "metadata": {},
   "source": [
    "### `not` operator\n",
    "\n",
    "The last boolean operator is `not`. Its truth table is as follows:\n",
    "\n",
    "| Expression  | Evaluation |\n",
    "|-------------|------------|\n",
    "| `not True`  | `False`    |\n",
    "| `not False` | `True`     |"
   ]
  },
  {
   "cell_type": "code",
   "execution_count": null,
   "id": "e9da1cd6-54bc-4cf3-9e10-6470dfda9837",
   "metadata": {},
   "outputs": [],
   "source": [
    "not (3 + 3 == 6)"
   ]
  },
  {
   "cell_type": "code",
   "execution_count": null,
   "id": "794343d4-b970-4833-adae-00a7635a0450",
   "metadata": {},
   "outputs": [],
   "source": [
    "not (1 < 1)"
   ]
  },
  {
   "cell_type": "markdown",
   "id": "867d7e8c-ae76-403d-8620-55a0c2606993",
   "metadata": {},
   "source": [
    "## 4.4 Conditional structures\n",
    "\n",
    "All the expressions we have seen so far are boolean expressions: a test\n",
    "is performed, and the operation returns `True` or `False` depending on\n",
    "whether the evaluated expression is true or not. In the context of a\n",
    "computer program that automates operations, we want to use them as\n",
    "**conditions**: *if* the expression is true, then the computer must\n",
    "perform a certain operation. **Conditional structures** allow precisely\n",
    "this usage.\n",
    "\n",
    "Let’s illustrate this principle by implementing the following program:\n",
    "\n",
    "-   Define a variable `x`.\n",
    "\n",
    "-   If `x` is greater than `a value of your choice`, then print “The expression is true.”\n",
    "\n",
    "-   Otherwise, print “The expression is false.”\n",
    "\n",
    "Vary the value of `x` to verify the correct operation of the test."
   ]
  },
  {
   "cell_type": "code",
   "execution_count": null,
   "id": "98a1385e-a366-4328-a7fa-5ffd14d8d0cb",
   "metadata": {},
   "outputs": [],
   "source": [
    "x = 12\n",
    "\n",
    "if x >= 12:\n",
    "    print(\"The expression is true.\")\n",
    "else:\n",
    "    print(\"The expression is false.\")"
   ]
  },
  {
   "cell_type": "markdown",
   "id": "6ad4a139-59c5-46be-bc62-0caad33e68f6",
   "metadata": {},
   "source": [
    "### Instruction blocks and indentation\n",
    "\n",
    "The previous example illustrates the syntax of conditional structures in\n",
    "Python. These structures are based on *instruction blocks*, which\n",
    "delimit the set of instructions to be executed when a test is true.\n",
    "Conditional structures have three rules:\n",
    "\n",
    "-   The line specifying the test ends with `:`.\n",
    "\n",
    "-   All instructions that must be executed if the test is true are at\n",
    "    the same level of indentation.\n",
    "\n",
    "-   The conditional structure ends when the indentation returns to its\n",
    "    original level.\n",
    "\n",
    "Note that conditional structures can indeed be nested, as illustrated in\n",
    "the following example."
   ]
  },
  {
   "cell_type": "code",
   "execution_count": null,
   "id": "7c086204-6d8d-4380-bf3d-6abe3864f3af",
   "metadata": {},
   "outputs": [],
   "source": [
    "x = 7\n",
    "\n",
    "if x >= 5:\n",
    "    print(\"The first expression is true.\")\n",
    "    if x >= 6:\n",
    "        print(\"The second expression is true.\")"
   ]
  },
  {
   "cell_type": "markdown",
   "id": "5a29e608-9eb6-4487-87c5-5d6f9bc9a835",
   "metadata": {},
   "source": [
    "### `if`, `else`, and `elif` statements\n",
    "\n",
    "In conditional structures, tests can be specified using three\n",
    "statements: `if`, `else`, and `elif`. The previous examples have already\n",
    "illustrated the operation of the first (and most frequent)\n",
    "statement.\n",
    "\n",
    "In practice, we often want to specify an alternative when the condition\n",
    "of the `if` statement returns `False`. The `else` statement allows\n",
    "specifying an alternative instruction block."
   ]
  },
  {
   "cell_type": "code",
   "execution_count": null,
   "id": "07aef4fb-ded3-4b08-811a-2767f8dc9e66",
   "metadata": {},
   "outputs": [],
   "source": [
    "city = \"Antananarivo\"\n",
    "\n",
    "if city in [\"Antananarivo\", \"Fianarantsoa\", \"Tulear\"]:\n",
    "    print(\"Known city.\")\n",
    "else:\n",
    "    print(\"Unknown city.\")"
   ]
  },
  {
   "cell_type": "markdown",
   "id": "21d15fd0-209e-4a1d-8eb0-c92e0a64cfb1",
   "metadata": {},
   "source": [
    "Finally, we may want to specify multiple alternatives. In this case, we\n",
    "will use `elif` statements. The first `elif` statement will only execute\n",
    "if the test of the `if` statement returns `False`. The second `elif`\n",
    "statement will only execute if the test of the first `elif` statement\n",
    "returns `False`, and so on. Again, a final `else` statement can be\n",
    "specified, which only executes if none of the previous tests returned\n",
    "`True`."
   ]
  },
  {
   "cell_type": "code",
   "execution_count": null,
   "id": "93cb78bb-46e8-4097-8064-fe03175c333f",
   "metadata": {},
   "outputs": [],
   "source": [
    "city = \"Antananarivo\"\n",
    "\n",
    "if city == \"Tulear\":\n",
    "    print(\"I'm going to Tulear.\")\n",
    "elif city == \"Fianarantsoa\":\n",
    "    print(\"I'm going to Fianarantsoa.\")\n",
    "elif city == \"Antananarivo\":\n",
    "    print(\"I'm going to Antananarivo.\")\n",
    "else:\n",
    "    print(\"I don't know where I am going.\")"
   ]
  },
  {
   "cell_type": "markdown",
   "id": "651e5a54-cbd4-41f9-b512-01d4e46cd0b1",
   "metadata": {},
   "source": [
    "## 4.5 Exercises"
   ]
  },
  {
   "cell_type": "markdown",
   "id": "12e59af5-51f2-407e-94bd-c12c4c7a1e90",
   "metadata": {},
   "source": [
    "### Three and no more\n",
    "\n",
    "Write a program that performs the following operations:\n",
    "\n",
    "-   Define a list that contains 4 names.\n",
    "\n",
    "-   Write a test that prints the message (‘Too many people.’) if the\n",
    "    list contains more than three people.\n",
    "\n",
    "-   Remove a person from the list (using the `del` function or the `pop`\n",
    "    method seen in a previous tutorial).\n",
    "\n",
    "-   Perform the test again, there should be no output."
   ]
  },
  {
   "cell_type": "code",
   "execution_count": null,
   "id": "875c93b6-6dff-49f3-bdcb-be1d6d1d037b",
   "metadata": {},
   "outputs": [],
   "source": [
    "#Type your answer here"
   ]
  },
  {
   "cell_type": "markdown",
   "id": "906c0474-6b8b-4fa0-8196-6bcf19562a58",
   "metadata": {},
   "source": [
    "The input function allows the programmer to ask users to enter a value in a Python program. The syntax is as follows: x = input(). When this command is executed, the user must enter a value, which is then assigned to the variable x.\n",
    "\n",
    "Using input and the if, elif, and else statements, code the following program:\n",
    "\n",
    "    Ask the user for a value, which will be stored in a variable p.\n",
    "\n",
    "    If p is strictly less than $15, print the message “too low!”.\n",
    "\n",
    "    If p is strictly greater than $15, print the message “too high!”.\n",
    "\n",
    "    If p is equal to $15, print the message “right on!”.\n",
    "\n",
    "Note, input returns a string by default. Therefore, you need to convert the value of p to an integer (using the `int` function) for the game to work."
   ]
  },
  {
   "cell_type": "code",
   "execution_count": null,
   "id": "9a744af1-de59-4310-897a-2c8f574751ea",
   "metadata": {},
   "outputs": [],
   "source": [
    "#Type your answer here"
   ]
  },
  {
   "cell_type": "markdown",
   "id": "8b9336a0-5dfe-4c32-b936-ed0a599239ac",
   "metadata": {},
   "source": [
    "# 5. Loops\n",
    "\n",
    "Loops will allow us to repeat an instruction several times without\n",
    "having to rewrite the same code each time.\n",
    "\n",
    "To illustrate this idea, let’s imagine we want to display each element\n",
    "of a list. For now, we would do:"
   ]
  },
  {
   "cell_type": "code",
   "execution_count": null,
   "id": "e6a89676-8438-42a7-aec2-01c090c0411f",
   "metadata": {},
   "outputs": [],
   "source": [
    "gamme = ['do', 're', 'mi', 'fa', 'sol', 'la', 'si']\n",
    "\n",
    "print(gamme[0])\n",
    "print(gamme[1])\n",
    "print(gamme[2])"
   ]
  },
  {
   "cell_type": "markdown",
   "id": "12617a07-8b4e-49d5-bce8-810637dd6a32",
   "metadata": {},
   "source": [
    "## for loops\n",
    "\n",
    "### Definition\n",
    "\n",
    "The first type of loop we will look at is the `for` loop. A `for` loop\n",
    "allows you to traverse the different elements contained in an object\n",
    "called an **iterable**, and perform operations with these elements.\n",
    "Iterable objects include all the sequential objects we have seen so far:\n",
    "strings, lists, tuples, etc.\n",
    "\n",
    "Let’s illustrate how a `for` loop works by solving the problem presented\n",
    "earlier:"
   ]
  },
  {
   "cell_type": "code",
   "execution_count": null,
   "id": "49cffc5a-96de-4b62-85fc-34cb6676cacb",
   "metadata": {},
   "outputs": [],
   "source": [
    "for note in gamme:\n",
    "    print(note)"
   ]
  },
  {
   "cell_type": "markdown",
   "id": "2d688ccd-4554-41af-beae-cb01dca15ec2",
   "metadata": {},
   "source": [
    "### Syntax\n",
    "\n",
    "Let’s analyze the structure of a `for` loop:\n",
    "\n",
    "-   The first line specifies a **`for` statement**, and like any\n",
    "    statement in Python ends with `:`.\n",
    "\n",
    "-   This is followed by a **block of instructions**, i.e., a series of\n",
    "    operations (just one in our example) that will be executed at each\n",
    "    iteration of the loop. This block is visible by its **level of\n",
    "    indentation**, incremented by 1 compared to the statement. The block\n",
    "    ends as soon as the indentation returns to its initial level.\n",
    "\n",
    "As with conditional statements like `if`/`else`, indentation is crucial.\n",
    "If you forget it, Python returns an error."
   ]
  },
  {
   "cell_type": "code",
   "execution_count": null,
   "id": "c3aa698d-49e0-4e13-b44d-117d23458820",
   "metadata": {},
   "outputs": [],
   "source": [
    "for note in gamme:\n",
    "print(note)"
   ]
  },
  {
   "cell_type": "markdown",
   "id": "dd34ac98-375d-4547-9458-ad795937e5d0",
   "metadata": {},
   "source": [
    "### Operation\n",
    "\n",
    "Now let’s look in more detail at what the `for` statement does. It\n",
    "defines an **iteration variable** (called `note` in our example), which\n",
    "will traverse the elements of the **iterator** specified after the `in`\n",
    "(the list `gamme` in our example). The syntax of a loop in Python lends\n",
    "itself well to a literal description; in our case: “for each note in the\n",
    "list gamme, print the note.”\n",
    "\n",
    "Note that a loop defines a variable without needing the traditional\n",
    "`variable = value` assignment syntax. Furthermore, this variable is not\n",
    "deleted once the loop is finished; it then takes the value of the last\n",
    "element of the iterator."
   ]
  },
  {
   "cell_type": "code",
   "execution_count": null,
   "id": "f40d1883-dc96-451a-b0ab-8ef9d7349628",
   "metadata": {},
   "outputs": [],
   "source": [
    "note"
   ]
  },
  {
   "cell_type": "markdown",
   "id": "4db28638-690f-41ba-845d-d8ea526af8f0",
   "metadata": {},
   "source": [
    "The iterator does not necessarily have to be a list; it can be any\n",
    "iterable object. This includes all the sequential objects we have seen."
   ]
  },
  {
   "cell_type": "code",
   "execution_count": null,
   "id": "56268c4c-02ea-47f7-9444-38fe0e96c1c9",
   "metadata": {},
   "outputs": [],
   "source": [
    "for char in \"YMCA\":\n",
    "    print(char)\n",
    "\n",
    "print()  # Line break\n",
    "\n",
    "t = (1, 2, 3, 4, 5)\n",
    "for i in t:\n",
    "    print(i*9)"
   ]
  },
  {
   "cell_type": "markdown",
   "id": "0a6118db-2106-4515-9ff8-cae915474061",
   "metadata": {},
   "source": [
    "However, the class of iterable objects is much larger than just\n",
    "sequential objects. For example, you can iterate over the keys of a\n",
    "dictionary, even though we saw in a previous tutorial that it is not a\n",
    "sequential object, since there is no notion of order in a dictionary."
   ]
  },
  {
   "cell_type": "code",
   "execution_count": null,
   "id": "038e6db6-2e50-441a-863c-311ba8ed6427",
   "metadata": {},
   "outputs": [],
   "source": [
    "inventaire = {'coffee': '500g', 'milk': '1.5L', 'cereal': '1kg'}\n",
    "for key in inventaire:\n",
    "    print(key)\n",
    "    print(inventaire[key])\n",
    "    print()  # Line break"
   ]
  },
  {
   "cell_type": "markdown",
   "id": "a88f2a9c-2f89-4fcd-9a96-65c520625540",
   "metadata": {},
   "source": [
    "### Iteration over integers with the `range` function\n",
    "\n",
    "In programming, it is common to want to iterate over a series of\n",
    "integers. Instead of specifying this series in a list, which is not very\n",
    "practical if the series is long, we use the `range(n)` function. This\n",
    "creates an iterable object that contains all the integers between 0 and\n",
    "n-1, and can be used within a loop.\n",
    "\n",
    "For example, let’s see how we can very simply display a multiplication\n",
    "table using this function."
   ]
  },
  {
   "cell_type": "code",
   "execution_count": null,
   "id": "6c1fbfcc-f571-4c65-ab05-a744fe4c4536",
   "metadata": {},
   "outputs": [],
   "source": [
    "table = 9\n",
    "\n",
    "for i in range(11):\n",
    "    print(i, i*9)"
   ]
  },
  {
   "cell_type": "markdown",
   "id": "4b176816-74aa-4fb4-9fa1-b242c5cc21c3",
   "metadata": {},
   "source": [
    "### Iteration over indices \n",
    "\n",
    "We have seen that a `for` loop works by iterating over the *elements* of\n",
    "an iterable. However, in the case of a sequential object like a list, we\n",
    "may sometimes want to iterate over the *indices* of the object to\n",
    "manipulate both the indices and the elements contained in the object. In\n",
    "this case, the `enumerate` function can be used:"
   ]
  },
  {
   "cell_type": "code",
   "execution_count": null,
   "id": "41003f08-8a75-42b0-8ed0-96f8d7b05522",
   "metadata": {},
   "outputs": [],
   "source": [
    "gamme = ['do', 're', 'mi', 'fa', 'sol', 'la', 'si']\n",
    "\n",
    "for i, note in enumerate(gamme):\n",
    "    print(\"The note number \" + str(i) + \" in the C major scale is \" + note)"
   ]
  },
  {
   "cell_type": "markdown",
   "id": "17337805-4dc2-4039-ae38-747399ac839d",
   "metadata": {},
   "source": [
    "## while loops\n",
    "\n",
    "### Definition\n",
    "`while` loops provide an alternative way to specify repetitive\n",
    "procedures. The idea is no longer to iterate over a fixed number of\n",
    "objects, but to **iterate as long as a condition (logical test) is\n",
    "met**."
   ]
  },
  {
   "cell_type": "code",
   "execution_count": null,
   "id": "af21a921-d57a-4210-9fad-2bc2f87f7eb5",
   "metadata": {},
   "outputs": [],
   "source": [
    "i = 1\n",
    "while i <= 5:\n",
    "    print(i)\n",
    "    i = i + 1"
   ]
  },
  {
   "cell_type": "markdown",
   "id": "4397d0e6-68fa-4cef-9bcf-580d564b0fbc",
   "metadata": {},
   "source": [
    "### Stopping criterion\n",
    "\n",
    "An essential difference between while loops and for loops lies in the stopping criterion. In a for loop, this criterion is clear: the loop iterates over the elements of an iterable object, necessarily of finite size. The loop stops when each element of the iterable has been traversed.\n",
    "\n",
    "In a while loop, on the other hand, the stopping criterion is given by a logical condition, so the user must set the stopping criterion. In the example, for the loop to stop, the condition i <= 5 must become False, meaning i must become strictly greater than 5. We ensured this by initializing i to 1 before the loop starts, and then incrementing i by one unit at each iteration.\n",
    "\n",
    "What happens if we forget to increment i? The stopping criterion is never reached, so the loop is infinite, and we must use the “Stop” button (black square) in Jupyter to stop the running program. Let’s verify this by incrementing the wrong variable."
   ]
  },
  {
   "cell_type": "code",
   "execution_count": null,
   "id": "d454a918-e788-40cd-b807-fdc8e341a9b8",
   "metadata": {},
   "outputs": [],
   "source": [
    "i = 1\n",
    "j = 1\n",
    "while i <= 5:\n",
    "    j = j + 1"
   ]
  },
  {
   "cell_type": "markdown",
   "id": "796945c1-0c3e-4c86-97c4-de0073c7a184",
   "metadata": {},
   "source": [
    "Therefore, when we suspect that a `while` loop is taking too long to\n",
    "run, we must consider the possibility that we have fallen into an\n",
    "infinite loop, and ensure that the stopping criterion is reachable.\n",
    "\n",
    "### The `break` statement\n",
    "\n",
    "An alternative way to specify a stopping criterion is to use the `break`\n",
    "statement. When this statement is reached and executed, the loop is\n",
    "immediately interrupted.\n",
    "\n",
    "Let’s illustrate its operation with an example. The first line creates\n",
    "an infinite loop because, by definition, `True` is always evaluated as\n",
    "`True`. The program then asks the user to type a name, and does so\n",
    "indefinitely until the user types the expected name. Only then is the\n",
    "`break` statement reached, and the loop stops. The message “Welcome\n",
    "<your_name>” is finally displayed, as the second `print` is not included\n",
    "in the loop."
   ]
  },
  {
   "cell_type": "code",
   "execution_count": null,
   "id": "0eef3295-9b5e-4f72-8ea8-d5302d8d43f5",
   "metadata": {},
   "outputs": [],
   "source": [
    "your_name = \"Thomas\"\n",
    "\n",
    "while True:\n",
    "    print(\"Please enter your name.\")\n",
    "    name = input()\n",
    "    if name == your_name:\n",
    "        break\n",
    "print(\"Welcome \" + your_name)"
   ]
  },
  {
   "cell_type": "markdown",
   "id": "adcc8e4b-cad3-4bda-b02f-b2fe40ecab97",
   "metadata": {},
   "source": [
    "### The `continue` statement\n",
    "\n",
    "The `continue` statement allows you to skip to the next iteration of the\n",
    "loop.\n",
    "\n",
    "Let’s enhance the previous example to illustrate its operation. As long\n",
    "as a different name than the expected one is entered, the `continue`\n",
    "statement is evaluated, and the program continues to ask for a name.\n",
    "When the correct name is entered, the program asks the user to enter a\n",
    "password. If the password is the expected one, the `break` statement is\n",
    "reached and executed, and the loop stops. If the password is incorrect,\n",
    "however, the loop restarts at the beginning of the execution block, so\n",
    "you need to enter a name again before the password."
   ]
  },
  {
   "cell_type": "code",
   "execution_count": null,
   "id": "0538bd18-173e-4f80-9848-b71fe978a332",
   "metadata": {},
   "outputs": [],
   "source": [
    "your_name = \"\"\n",
    "\n",
    "while True:\n",
    "    print(\"Please enter your name.\")\n",
    "    name = input()\n",
    "    if name != your_name:\n",
    "        continue\n",
    "    print(\"Please enter your password.\")\n",
    "    password = input()\n",
    "    if password == \"BSE2025\":\n",
    "        break\n",
    "print(\"Welcome \" + your_name)"
   ]
  },
  {
   "cell_type": "markdown",
   "id": "0ae71f53-7dad-4a1e-b671-a1299e2c04b9",
   "metadata": {},
   "source": [
    "NB: The code above is only for example purposes. As we will see in a\n",
    "future tutorial on best coding practices, you should **never write\n",
    "secrets (passwords, tokens, etc.) in plain text in your code.**\n",
    "\n",
    "## Exercises\n",
    "\n",
    "### Converting a `for` loop to a `while` loop\n",
    "\n",
    "Rewrite the following `for` loop using a `while` loop."
   ]
  },
  {
   "cell_type": "code",
   "execution_count": null,
   "id": "40218555-6ff6-4c7a-a815-c8905612b5aa",
   "metadata": {},
   "outputs": [],
   "source": [
    "gamme = ['do', 're', 'mi', 'fa', 'sol', 'la', 'si']\n",
    "\n",
    "for i, note in enumerate(gamme):\n",
    "    print(\"The note number \" + str(i) + \" in the C major scale is \" + note)"
   ]
  },
  {
   "cell_type": "markdown",
   "id": "b3dda2f3-10d8-4ede-aa4c-b23d619343a8",
   "metadata": {},
   "source": [
    "### Finding an element in a list\n",
    "\n",
    "Given a target integer `target_num` and a list of integers `l` as\n",
    "defined in the following cell. Using a `for` loop and the `enumerate`\n",
    "function:\n",
    "\n",
    "-   Check if the target integer is present in the list `l`.\n",
    "\n",
    "-   If yes, display the message ‘The number `target_num` is at position\n",
    "    `i` in the list’, and end the loop."
   ]
  },
  {
   "cell_type": "code",
   "execution_count": null,
   "id": "d2bbaf08-8e82-477f-853a-9210611a33f8",
   "metadata": {},
   "outputs": [],
   "source": [
    "target_num = 78\n",
    "\n",
    "l = [12, 98, 65, 39, 78, 55, 119, 27, 33]"
   ]
  },
  {
   "cell_type": "markdown",
   "id": "4243bae9-54d1-4ea9-94b9-ef9b1ef4e5c9",
   "metadata": {},
   "source": [
    "# 6. Functions\n",
    "\n",
    "Using functions is a **best practice** in programming, as they\n",
    "make the logical structure of the code more explicit and help reduce\n",
    "code duplication.\n",
    "\n",
    "## Definition\n",
    "\n",
    "A **function** can be defined as a structured block of code that:\n",
    "\n",
    "-   takes a set of **arguments** (Python objects) as input\n",
    "-   performs a **specific action** through a set of instructions\n",
    "-   **returns** a result (a Python object) as output\n",
    "\n",
    "We have already seen and used several functions in previous tutorials\n",
    "(`range`, `len`, etc.). We have also used **methods**, which are simply\n",
    "functions *attached* to a particular type of object. Let’s use a\n",
    "well-known function to illustrate their general operation.\n",
    "\n",
    "## Syntax\n",
    "\n",
    "The `def` statement is used to define a function:"
   ]
  },
  {
   "cell_type": "code",
   "execution_count": null,
   "id": "ef058412-145c-4764-a2d2-795f2325f41c",
   "metadata": {},
   "outputs": [],
   "source": [
    "def welcome(name):\n",
    "    msg = \"Greetings \" + name + \"!\"\n",
    "    return msg"
   ]
  },
  {
   "cell_type": "code",
   "execution_count": null,
   "id": "bf669956-0a3b-4d1c-926a-49b1f2dcc4a6",
   "metadata": {},
   "outputs": [],
   "source": [
    "welcome(\"\")"
   ]
  },
  {
   "cell_type": "markdown",
   "id": "2d497890-4e19-4002-9c2e-d302cd977d7e",
   "metadata": {},
   "source": [
    "## Passing Arguments\n",
    "\n",
    "When you call a function and specify arguments, you are “passing”\n",
    "arguments to it. These arguments then become variables that can be used\n",
    "within the context of the function. Unlike a `for` loop, the variables\n",
    "created do not persist after the function call."
   ]
  },
  {
   "cell_type": "code",
   "execution_count": null,
   "id": "ad258951-33b1-4987-9889-0f6bfdce268a",
   "metadata": {},
   "outputs": [],
   "source": [
    "def addition(x, y):\n",
    "    return x + y"
   ]
  },
  {
   "cell_type": "code",
   "execution_count": null,
   "id": "98f4e7ca-9358-4afd-95ea-3f9df513c3e2",
   "metadata": {},
   "outputs": [],
   "source": [
    "addition(5, 3)"
   ]
  },
  {
   "cell_type": "code",
   "execution_count": null,
   "id": "c88310c4-afee-4f65-a67d-985dd67c4b54",
   "metadata": {},
   "outputs": [],
   "source": [
    "x  # The variable does not persist in memory after the function call"
   ]
  },
  {
   "cell_type": "markdown",
   "id": "b276ca07-dc93-41d7-9e57-48839de3fc5c",
   "metadata": {},
   "source": [
    "### Passing by Position and Passing by Keyword\n",
    "\n",
    "In Python, functions allow two modes of passing arguments:\n",
    "\n",
    "-   **passing by position**, which is the mode we have seen in all\n",
    "    previous examples: arguments are passed to the function in the order\n",
    "    they were defined, without specifying the parameter name.\n",
    "\n",
    "-   **passing by keyword**: you specify the parameter name when passing\n",
    "    the argument, which allows you not to follow the order specified\n",
    "    during the definition.\n",
    "\n",
    "Let’s illustrate this difference with a function that simply performs a\n",
    "division."
   ]
  },
  {
   "cell_type": "code",
   "execution_count": null,
   "id": "71ff4ad9-f23b-4b65-92bc-c1edc6779671",
   "metadata": {},
   "outputs": [],
   "source": [
    "def division(x, y):\n",
    "    return x / y"
   ]
  },
  {
   "cell_type": "code",
   "execution_count": null,
   "id": "8f21e663-b02a-407f-9161-be60a3f84b8d",
   "metadata": {},
   "outputs": [],
   "source": [
    "division(4, 2)  # Passing by position"
   ]
  },
  {
   "cell_type": "code",
   "execution_count": null,
   "id": "db572007-9409-4e79-b5d2-650ea898ee05",
   "metadata": {},
   "outputs": [],
   "source": [
    "division(x=4, y=2)  # Passing by keyword"
   ]
  },
  {
   "cell_type": "markdown",
   "id": "8976bd29-e785-4f53-b8fb-3e49f847eb39",
   "metadata": {},
   "source": [
    "### Mandatory and Optional Arguments\n",
    "\n",
    "When defining a function, it is common to want to mix arguments that the\n",
    "user must specify and optional arguments that specify a default behavior\n",
    "of the function but can be changed if needed.\n",
    "\n",
    "-   generally, **mandatory arguments** are **passed by position**. They\n",
    "    can also be passed by keyword, but since they are “expected,” they\n",
    "    are usually passed by position for conciseness\n",
    "\n",
    "-   **optional arguments** must be **passed by keyword**, to clearly\n",
    "    indicate that the default behavior of the function is being modified\n",
    "\n",
    "How do you specify that an argument is optional when defining a\n",
    "function? Simply by specifying a default value for the argument. For\n",
    "example, let’s build a function that concatenates two strings and allows\n",
    "the user to specify a separator."
   ]
  },
  {
   "cell_type": "code",
   "execution_count": null,
   "id": "6b04331f-b648-4edd-8cff-c90941bb78bf",
   "metadata": {},
   "outputs": [],
   "source": [
    "def concat_string(str1, str2, sep=' '):\n",
    "    return str1 + sep + str2"
   ]
  },
  {
   "cell_type": "code",
   "execution_count": null,
   "id": "cffd10f4-2da5-446e-b7ae-bbb5b3b8e5a3",
   "metadata": {},
   "outputs": [],
   "source": [
    "concat_string('hello', 'world')  # Default behavior"
   ]
  },
  {
   "cell_type": "code",
   "execution_count": null,
   "id": "ca347f10-0efb-498a-8390-a10ae9a2993e",
   "metadata": {},
   "outputs": [],
   "source": [
    "concat_string('hello', 'world', sep=', ')  # Modified behavior"
   ]
  },
  {
   "cell_type": "markdown",
   "id": "50143dc0-b3fb-4b08-824d-a127de57f763",
   "metadata": {},
   "source": [
    "This example also illustrates the rule when mixing positional and\n",
    "keyword arguments: **positional arguments must always be placed before\n",
    "keyword arguments**.\n",
    "\n",
    "## Returning Results\n",
    "\n",
    "### Principle\n",
    "\n",
    "We have seen that every function returns a result as output and that the\n",
    "`return` statement specifies this result. When the function is called,\n",
    "it is evaluated to the value specified by `return`, and this value can\n",
    "then be stored in a variable and used in subsequent calculations, and so\n",
    "on.\n",
    "\n",
    "Important note: **when a `return` statement is reached in a function,\n",
    "the rest of the function is not executed**."
   ]
  },
  {
   "cell_type": "markdown",
   "id": "c6ba4d27-7216-44c5-a955-08953f1c187b",
   "metadata": {},
   "source": [
    "## Exercises\n",
    "\n",
    "### Power function\n",
    "\n",
    "Create a `power` function that takes two numbers `x` and `y` as input\n",
    "and returns the power function $x^y$."
   ]
  },
  {
   "cell_type": "code",
   "execution_count": null,
   "id": "bdc38cac-089b-4748-b1a4-9e5b6b55af8a",
   "metadata": {},
   "outputs": [],
   "source": [
    "#Type your answser here"
   ]
  },
  {
   "cell_type": "markdown",
   "id": "1030aeaf-eebf-4af9-a363-5428e04461be",
   "metadata": {},
   "source": [
    "### Recursive Functions: Factorial\n",
    "\n",
    "Recursive functions are functions that call themselves within the body\n",
    "of the function, causing infinite calls until a stopping criterion is\n",
    "reached.\n",
    "\n",
    "A good example of a recursive function is one that calculates the\n",
    "factorial of an integer. The factorial of a natural number $n$ is the\n",
    "product of all positive integers less than or equal to n. For example:\n",
    "$5! = 5*4*3*2*1 = 120$.\n",
    "\n",
    "Code this function and verify that it works correctly."
   ]
  },
  {
   "cell_type": "code",
   "execution_count": null,
   "id": "21992ff6-aed9-4550-b1b9-bb8a1e2df990",
   "metadata": {},
   "outputs": [],
   "source": [
    "#Type your answer here"
   ]
  },
  {
   "cell_type": "markdown",
   "id": "a19c96cb-83c0-463c-8509-c641ce36b7b0",
   "metadata": {},
   "source": [
    "### Variance in a Population and Variance in a Sample\n",
    "\n",
    "We can manually code the calculation of the variance of a list of numbers using the formula:\n",
    "$$\\sigma^2 = {\\frac {1}{n}}\\sum_{i=1}^{n} (x_{i}-\\bar{x})^2$$\n",
    "\n",
    "Strictly speaking, this formula is valid when calculating **population\n",
    "variance**. If we only observe a sample of the population, we do not\n",
    "calculate the variance but estimate it, and we must then use the\n",
    "following formula to obtain an **unbiased estimator of the true\n",
    "variance**: $$s^2 = {\\frac {1}{n-1}}\\sum_{i=1}^{n} (x_{i}-\\bar{x})^2$$.\n",
    "\n",
    "To account for this distinction:\n",
    "\n",
    "-   code a `mean` function that calculates the mean as in the previous\n",
    "    tutorial exercise\n",
    "-   code a `var` function that calculates the variance as in the\n",
    "    previous tutorial exercise (calling the `mean` function to calculate\n",
    "    the mean)\n",
    "-   modify the `var` function to allow the user to choose the\n",
    "    calculation method via an optional `mode` parameter (default value:\n",
    "    ‘population’ for calculation using the population formula;\n",
    "    alternative value: ‘sample’ for calculation using the sample\n",
    "    formula)\n",
    "\n",
    "Compare the values obtained in both cases with what the *black box*\n",
    "function `var` from the `numpy` library returns (see the solution to the\n",
    "previous tutorial exercise for the syntax, and see the\n",
    "[doc](https://numpy.org/doc/stable/reference/generated/numpy.var.html)\n",
    "of the function, especially the `ddof` parameter to vary the calculation\n",
    "method)."
   ]
  },
  {
   "cell_type": "code",
   "execution_count": null,
   "id": "6ddb6ecd-8a81-4e6d-804d-c5c545af112f",
   "metadata": {},
   "outputs": [],
   "source": [
    "#Type your answer here"
   ]
  },
  {
   "cell_type": "code",
   "execution_count": null,
   "id": "cbcff1c3-3a40-4e1e-b195-071c2730ea27",
   "metadata": {
    "jupyter": {
     "source_hidden": true
    }
   },
   "outputs": [],
   "source": [
    "from IPython.display import HTML, display\n",
    "\n",
    "display(HTML(\"\"\"\n",
    "<style>\n",
    "/* cible le HTML rendu par JupyterLab et force l'application */\n",
    ".jp-RenderedHTMLCommon .callout.callout-tip {\n",
    "  border-left: 6px solid #2ecc71 !important;\n",
    "  background-color: #ecfdf5 !important;\n",
    "  border-radius: 6px !important;\n",
    "  padding: 0.8em 1em !important;\n",
    "  margin: 1em 0 !important;\n",
    "  font-family: sans-serif !important;\n",
    "}\n",
    "\n",
    "/* en-tête */\n",
    ".jp-RenderedHTMLCommon .callout-header {\n",
    "  display: flex !important;\n",
    "  align-items: center !important;\n",
    "  font-weight: 700 !important;\n",
    "  color: #065f46 !important;\n",
    "  margin-bottom: 0.5em !important;\n",
    "}\n",
    "\n",
    "/* icône (pseudo-élément) */\n",
    ".jp-RenderedHTMLCommon .callout-icon::before {\n",
    "  content: \"💡\" !important;\n",
    "  margin-right: 0.5em !important;\n",
    "  font-size: 1.2em !important;\n",
    "}\n",
    "\n",
    "/* corps : listes */\n",
    ".jp-RenderedHTMLCommon .callout-body ul {\n",
    "  margin: 0 0 0 1.25em !important;\n",
    "  padding: 0 !important;\n",
    "}\n",
    "</style>\n",
    "\"\"\"))\n"
   ]
  }
 ],
 "metadata": {
  "kernelspec": {
   "display_name": "Python 3 (ipykernel)",
   "language": "python",
   "name": "python3"
  },
  "language_info": {
   "codemirror_mode": {
    "name": "ipython",
    "version": 3
   },
   "file_extension": ".py",
   "mimetype": "text/x-python",
   "name": "python",
   "nbconvert_exporter": "python",
   "pygments_lexer": "ipython3",
   "version": "3.13.7"
  }
 },
 "nbformat": 4,
 "nbformat_minor": 5
}
